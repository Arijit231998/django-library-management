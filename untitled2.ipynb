{
 "cells": [
  {
   "cell_type": "code",
   "execution_count": null,
   "metadata": {},
   "outputs": [
    {
     "ename": "",
     "evalue": "",
     "output_type": "error",
     "traceback": [
      "\u001b[1;31mRunning cells with 'Python 3.9.6 64-bit' requires ipykernel package.\n",
      "\u001b[1;31mRun the following command to install 'ipykernel' into the Python environment. \n",
      "\u001b[1;31mCommand: 'c:/Users/User/AppData/Local/Programs/Python/Python39/python.exe -m pip install ipykernel -U --user --force-reinstall'"
     ]
    }
   ],
   "source": [
    "options = webdriver.ChromeOptions()\n",
    "driver = webdriver.Chrome(executable_path='chromedriver.exe', options=options)\n",
    "driver.set_window_size(1120, 1000)\n",
    "url =\"http://127.0.0.1:8000/\"\n",
    "driver.get(url)\n",
    "driver.title\n",
    "driver.get('http://127.0.0.1:8000/student/signup/')\n",
    "from selenium.webdriver.common.by import By\n",
    "firstname_field=driver.find_element(By.XPATH,'/html/body/main/form/input[2]')\n",
    "lastname_field=driver.find_element(By.XPATH,'/html/body/main/form/input[3]')\n",
    "studentID_field=driver.find_element(By.XPATH,'//*[@id=\"studentID\"]')\n",
    "password_field=driver.find_element(By.XPATH,'/html/body/main/form/input[5]')\n",
    "Department_field= driver.find_element(By.XPATH,'/html/body/main/form/select')\n",
    "\n",
    "firstname_field.click()\n",
    "firstname_field.send_keys(\"Arijit\")\n",
    "lastname_field.click()\n",
    "lastname_field.send_keys(\"Bakshi\")\n",
    "studentID_field.click()\n",
    "studentID_field.send_keys(\"19201001\")\n",
    "password_field.click()\n",
    "password_field.send_keys(\"12345678\")\n",
    "Department_field.click()\n",
    "Department_field.send_keys(\"CSE\")\n",
    "print(firstname_field.get_attribute('value'))\n",
    "print(lastname_field.get_attribute('value'))\n",
    "print(studentID_field.get_attribute('value'))\n",
    "print(password_field.get_attribute('value'))\n",
    "print(Department_field.get_attribute('value'))\n",
    "time.sleep(3)\n",
    "\n",
    "if firstname_field.get_attribute('value')=='Arijit'and lastname_field.get_attribute('value')=='Bakshi'and studentID_field.get_attribute('value')=='19201001'and password_field.get_attribute('value')=='12345678'and Department_field.get_attribute('value')=='CSE':\n",
    "     print(\"Test 2 is passed\")\n",
    "\n",
    "                                    "
   ]
  },
  {
   "cell_type": "code",
   "execution_count": null,
   "metadata": {},
   "outputs": [
    {
     "ename": "",
     "evalue": "",
     "output_type": "error",
     "traceback": [
      "\u001b[1;31mRunning cells with 'Python 3.9.6 64-bit' requires ipykernel package.\n",
      "\u001b[1;31mRun the following command to install 'ipykernel' into the Python environment. \n",
      "\u001b[1;31mCommand: 'c:/Users/User/AppData/Local/Programs/Python/Python39/python.exe -m pip install ipykernel -U --user --force-reinstall'"
     ]
    }
   ],
   "source": [
    "options = webdriver.ChromeOptions()\n",
    "driver = webdriver.Chrome(executable_path='chromedriver.exe', options=options)\n",
    "driver.set_window_size(1120, 1000)\n",
    "url =\"http://127.0.0.1:8000/\"\n",
    "driver.get(url)\n",
    "driver.title\n",
    "driver.get('http://127.0.0.1:8000/student/signup/')\n",
    "from selenium.webdriver.common.by import By\n",
    "firstname_field=driver.find_element(By.XPATH,'/html/body/main/form/input[2]')\n",
    "lastname_field=driver.find_element(By.XPATH,'/html/body/main/form/input[3]')\n",
    "studentID_field=driver.find_element(By.XPATH,'//*[@id=\"studentID\"]')\n",
    "password_field=driver.find_element(By.XPATH,'/html/body/main/form/input[5]')\n",
    "Department_field= driver.find_element(By.XPATH,'/html/body/main/form/select')\n",
    "\n",
    "firstname_field.click()\n",
    "firstname_field.send_keys(\"Arijit\")\n",
    "lastname_field.click()\n",
    "lastname_field.send_keys(\"Bakshi\")\n",
    "studentID_field.click()\n",
    "studentID_field.send_keys(\"19201001\")\n",
    "password_field.click()\n",
    "password_field.send_keys(\"12345678\")\n",
    "Department_field.click()\n",
    "Department_field.send_keys(\"CSE\")\n",
    "print(firstname_field.get_attribute('value'))\n",
    "print(lastname_field.get_attribute('value'))\n",
    "print(studentID_field.get_attribute('value'))\n",
    "print(password_field.get_attribute('value'))\n",
    "print(Department_field.get_attribute('value'))\n",
    "time.sleep(3)\n",
    "\n",
    "if firstname_field.get_attribute('value')=='Arijit'and lastname_field.get_attribute('value')=='Bakshi'and studentID_field.get_attribute('value')=='19201001'and password_field.get_attribute('value')=='12345678'and Department_field.get_attribute('value')=='CSE':\n",
    "     print(\"Test 2 is passed\")\n",
    "\n",
    "                                    "
   ]
  },
  {
   "cell_type": "code",
   "execution_count": null,
   "metadata": {},
   "outputs": [
    {
     "ename": "",
     "evalue": "",
     "output_type": "error",
     "traceback": [
      "\u001b[1;31mRunning cells with 'Python 3.9.6 64-bit' requires ipykernel package.\n",
      "\u001b[1;31mRun the following command to install 'ipykernel' into the Python environment. \n",
      "\u001b[1;31mCommand: 'c:/Users/User/AppData/Local/Programs/Python/Python39/python.exe -m pip install ipykernel -U --user --force-reinstall'"
     ]
    }
   ],
   "source": [
    "options = webdriver.ChromeOptions()\n",
    "driver = webdriver.Chrome(executable_path='chromedriver.exe', options=options)\n",
    "driver.set_window_size(1120, 1000)\n",
    "url =\"http://127.0.0.1:8000/\"\n",
    "driver.get(url)\n",
    "driver.title\n",
    "driver.get('http://127.0.0.1:8000/student/signup/')\n",
    "from selenium.webdriver.common.by import By\n",
    "firstname_field=driver.find_element(By.XPATH,'/html/body/main/form/input[2]')\n",
    "lastname_field=driver.find_element(By.XPATH,'/html/body/main/form/input[3]')\n",
    "studentID_field=driver.find_element(By.XPATH,'//*[@id=\"studentID\"]')\n",
    "password_field=driver.find_element(By.XPATH,'/html/body/main/form/input[5]')\n",
    "Department_field= driver.find_element(By.XPATH,'/html/body/main/form/select')\n",
    "\n",
    "firstname_field.click()\n",
    "firstname_field.send_keys(\"Arijit\")\n",
    "lastname_field.click()\n",
    "lastname_field.send_keys(\"Bakshi\")\n",
    "studentID_field.click()\n",
    "studentID_field.send_keys(\"19201001\")\n",
    "password_field.click()\n",
    "password_field.send_keys(\"12345678\")\n",
    "Department_field.click()\n",
    "Department_field.send_keys(\"CSE\")\n",
    "print(firstname_field.get_attribute('value'))\n",
    "print(lastname_field.get_attribute('value'))\n",
    "print(studentID_field.get_attribute('value'))\n",
    "print(password_field.get_attribute('value'))\n",
    "print(Department_field.get_attribute('value'))\n",
    "time.sleep(3)\n",
    "\n",
    "if firstname_field.get_attribute('value')=='Arijit'and lastname_field.get_attribute('value')=='Bakshi'and studentID_field.get_attribute('value')=='19201001'and password_field.get_attribute('value')=='12345678'and Department_field.get_attribute('value')=='CSE':\n",
    "     print(\"Test 2 is passed\")\n",
    "\n",
    "                                    "
   ]
  },
  {
   "cell_type": "code",
   "execution_count": null,
   "metadata": {},
   "outputs": [
    {
     "ename": "",
     "evalue": "",
     "output_type": "error",
     "traceback": [
      "\u001b[1;31mRunning cells with 'Python 3.9.6 64-bit' requires ipykernel package.\n",
      "\u001b[1;31mRun the following command to install 'ipykernel' into the Python environment. \n",
      "\u001b[1;31mCommand: 'c:/Users/User/AppData/Local/Programs/Python/Python39/python.exe -m pip install ipykernel -U --user --force-reinstall'"
     ]
    }
   ],
   "source": [
    "options = webdriver.ChromeOptions()\n",
    "driver = webdriver.Chrome(executable_path='chromedriver.exe', options=options)\n",
    "driver.set_window_size(1120, 1000)\n",
    "url =\"http://127.0.0.1:8000/\"\n",
    "driver.get(url)\n",
    "driver.title\n",
    "driver.get('http://127.0.0.1:8000/student/signup/')\n",
    "from selenium.webdriver.common.by import By\n",
    "firstname_field=driver.find_element(By.XPATH,'/html/body/main/form/input[2]')\n",
    "lastname_field=driver.find_element(By.XPATH,'/html/body/main/form/input[3]')\n",
    "studentID_field=driver.find_element(By.XPATH,'//*[@id=\"studentID\"]')\n",
    "password_field=driver.find_element(By.XPATH,'/html/body/main/form/input[5]')\n",
    "Department_field= driver.find_element(By.XPATH,'/html/body/main/form/select')\n",
    "\n",
    "firstname_field.click()\n",
    "firstname_field.send_keys(\"Al Amin\")\n",
    "lastname_field.click()\n",
    "lastname_field.send_keys(\"Anik\")\n",
    "studentID_field.click()\n",
    "studentID_field.send_keys(\"19201016\")\n",
    "password_field.click()\n",
    "password_field.send_keys(\"12345678\")\n",
    "Department_field.click()\n",
    "Department_field.send_keys(\"CSE\")\n",
    "print(firstname_field.get_attribute('value'))\n",
    "print(lastname_field.get_attribute('value'))\n",
    "print(studentID_field.get_attribute('value'))\n",
    "print(password_field.get_attribute('value'))\n",
    "print(Department_field.get_attribute('value'))\n",
    "time.sleep(3)\n",
    "\n",
    "if firstname_field.get_attribute('value')=='Al Amin'and lastname_field.get_attribute('value')=='Anik'and studentID_field.get_attribute('value')=='19201016'and password_field.get_attribute('value')=='12345678'and Department_field.get_attribute('value')=='CSE':\n",
    "     print(\"Test 2 is passed\")\n",
    "\n",
    "                                    "
   ]
  },
  {
   "cell_type": "code",
   "execution_count": null,
   "metadata": {},
   "outputs": [
    {
     "ename": "",
     "evalue": "",
     "output_type": "error",
     "traceback": [
      "\u001b[1;31mRunning cells with 'Python 3.9.6 64-bit' requires ipykernel package.\n",
      "\u001b[1;31mRun the following command to install 'ipykernel' into the Python environment. \n",
      "\u001b[1;31mCommand: 'c:/Users/User/AppData/Local/Programs/Python/Python39/python.exe -m pip install ipykernel -U --user --force-reinstall'"
     ]
    }
   ],
   "source": [
    "C:\\Users\\PC\\AppData\\Local\\Temp/ipykernel_11112/971520099.py:2: DeprecationWarning: executable_path has been deprecated, please pass in a Service object\n",
    "  driver = webdriver.Chrome(executable_path='chromedriver.exe', options=options)\n",
    "Al Amin\n",
    "Anik\n",
    "19201016\n",
    "12345678\n",
    "\n",
    "Test 2 is passed"
   ]
  },
  {
   "cell_type": "code",
   "execution_count": null,
   "metadata": {},
   "outputs": [
    {
     "ename": "",
     "evalue": "",
     "output_type": "error",
     "traceback": [
      "\u001b[1;31mRunning cells with 'Python 3.9.6 64-bit' requires ipykernel package.\n",
      "\u001b[1;31mRun the following command to install 'ipykernel' into the Python environment. \n",
      "\u001b[1;31mCommand: 'c:/Users/User/AppData/Local/Programs/Python/Python39/python.exe -m pip install ipykernel -U --user --force-reinstall'"
     ]
    }
   ],
   "source": [
    "options = webdriver.ChromeOptions()\n",
    "driver = webdriver.Chrome(executable_path='chromedriver.exe', options=options)\n",
    "driver.set_window_size(1120, 1000)\n",
    "url =\"http://127.0.0.1:8000/\"\n",
    "driver.get(url)\n",
    "driver.title\n",
    "driver.get('http://127.0.0.1:8000/admin/login/?next=/admin/')\n",
    "from selenium.webdriver.common.by import By\n",
    "Username_field=driver.find_element(By.XPATH,'//*[@id=\"id_username\"]')\n",
    "Password_field=driver.find_element(By.XPATH,'//*[@id=\"id_password\"]')\n",
    "Login_button=driver.find_element(By.XPATH,'//*[@id=\"login-form\"]/div[3]/input')\n",
    "Username_field.click()\n",
    "Username_field.send_keys(\"admin\")\n",
    "Password_field.click()\n",
    "Password_field.send_keys(\"admin\")\n",
    "print(Username_field.get_attribute('value'))\n",
    "print(Password_field.get_attribute('value'))\n",
    "time.sleep(3)\n",
    "if Username_field.get_attribute('value')=='admin' and Password_field.get_attribute('value')=='admin':\n",
    "    print(\"Test 3 is passed\")\n",
    "Login_button.click()\n",
    "driver.close()\n",
    "\n",
    "\n"
   ]
  },
  {
   "cell_type": "code",
   "execution_count": null,
   "metadata": {},
   "outputs": [],
   "source": [
    "options = webdriver.ChromeOptions()\n",
    "driver = webdriver.Chrome(executable_path='chromedriver.exe', options=options)\n",
    "driver.set_window_size(1120, 1000)\n",
    "url =\"http://127.0.0.1:8000/\"\n",
    "driver.get(url)\n",
    "driver.title\n",
    "driver.get('http://127.0.0.1:8000/student/login/')\n",
    "from selenium.webdriver.common.by import By\n",
    "\n",
    "\n",
    "username_field=driver.find_element(By.XPATH,'/html/body/main/form/input[2]')\n",
    "password_field=driver.find_element(By.XPATH,'/html/body/main/form/input[3]')\n",
    "login_button=driver.find_element(By.XPATH,'/html/body/main/form/button')\n",
    "\n",
    "username_field.click()\n",
    "username_field.send_keys(\"admin\")\n",
    "password_field.click()\n",
    "password_field.send_keys(\"admin\")\n",
    "print(username_field.get_attribute('value'))\n",
    "print(password_field.get_attribute('value'))\n",
    "#time.sleep(3)\n",
    "if username_field.get_attribute('value')=='admin' and password_field.get_attribute('value')=='admin':\n",
    "    print(\"Test 1 is passed\")\n",
    "\n",
    "\n",
    "login_button.click()\n",
    "driver.close()\n"
   ]
  },
  {
   "cell_type": "code",
   "execution_count": null,
   "metadata": {},
   "outputs": [
    {
     "ename": "",
     "evalue": "",
     "output_type": "error",
     "traceback": [
      "\u001b[1;31mRunning cells with 'Python 3.9.6 64-bit' requires ipykernel package.\n",
      "\u001b[1;31mRun the following command to install 'ipykernel' into the Python environment. \n",
      "\u001b[1;31mCommand: 'c:/Users/User/AppData/Local/Programs/Python/Python39/python.exe -m pip install ipykernel -U --user --force-reinstall'"
     ]
    }
   ],
   "source": [
    "options = webdriver.ChromeOptions()\n",
    "driver = webdriver.Chrome(executable_path='chromedriver.exe', options=options)\n",
    "driver.set_window_size(1120, 1000)\n",
    "url =\"http://127.0.0.1:8000/\"\n",
    "driver.get(url)\n",
    "driver.title\n",
    "driver.get('http://127.0.0.1:8000/student/login/')\n",
    "from selenium.webdriver.common.by import By\n",
    "\n",
    "\n",
    "username_field=driver.find_element(By.XPATH,'/html/body/main/form/input[2]')\n",
    "password_field=driver.find_element(By.XPATH,'/html/body/main/form/input[3]')\n",
    "login_button=driver.find_element(By.XPATH,'/html/body/main/form/button')\n",
    "\n",
    "username_field.click()\n",
    "username_field.send_keys(\"admin\")\n",
    "password_field.click()\n",
    "password_field.send_keys(\"admin\")\n",
    "print(username_field.get_attribute('value'))\n",
    "print(password_field.get_attribute('value'))\n",
    "#time.sleep(3)\n",
    "if username_field.get_attribute('value')=='admin' and password_field.get_attribute('value')=='admin':\n",
    "    print(\"Test 1 is passed\")\n",
    "\n",
    "\n",
    "login_button.click()\n",
    "driver.close()\n"
   ]
  },
  {
   "cell_type": "code",
   "execution_count": null,
   "metadata": {},
   "outputs": [
    {
     "ename": "",
     "evalue": "",
     "output_type": "error",
     "traceback": [
      "\u001b[1;31mRunning cells with 'Python 3.9.6 64-bit' requires ipykernel package.\n",
      "\u001b[1;31mRun the following command to install 'ipykernel' into the Python environment. \n",
      "\u001b[1;31mCommand: 'c:/Users/User/AppData/Local/Programs/Python/Python39/python.exe -m pip install ipykernel -U --user --force-reinstall'"
     ]
    }
   ],
   "source": [
    "\n"
   ]
  },
  {
   "cell_type": "code",
   "execution_count": null,
   "metadata": {},
   "outputs": [],
   "source": [
    "options = webdriver.ChromeOptions()\n",
    "driver = webdriver.Chrome(executable_path='chromedriver.exe', options=options)\n",
    "driver.set_window_size(1120, 1000)\n",
    "url =\"http://127.0.0.1:8000/\"\n",
    "driver.get(url)\n",
    "driver.title\n",
    "driver.get('http://127.0.0.1:8000/student/login/')\n",
    "from selenium.webdriver.common.by import By\n",
    "\n",
    "\n",
    "username_field=driver.find_element(By.XPATH,'/html/body/main/form/input[2]')\n",
    "password_field=driver.find_element(By.XPATH,'/html/body/main/form/input[3]')\n",
    "login_button=driver.find_element(By.XPATH,'/html/body/main/form/button')\n",
    "\n",
    "username_field.click()\n",
    "username_field.send_keys(\"admin\")\n",
    "password_field.click()\n",
    "password_field.send_keys(\"admin\")\n",
    "print(username_field.get_attribute('value'))\n",
    "print(password_field.get_attribute('value'))\n",
    "#time.sleep(3)\n",
    "if username_field.get_attribute('value')=='admin' and password_field.get_attribute('value')=='admin':\n",
    "    print(\"Test 1 is passed\")\n",
    "\n",
    "\n",
    "login_button.click()\n",
    "driver.close()\n"
   ]
  },
  {
   "cell_type": "code",
   "execution_count": null,
   "metadata": {},
   "outputs": [
    {
     "ename": "",
     "evalue": "",
     "output_type": "error",
     "traceback": [
      "\u001b[1;31mRunning cells with 'Python 3.9.6 64-bit' requires ipykernel package.\n",
      "\u001b[1;31mRun the following command to install 'ipykernel' into the Python environment. \n",
      "\u001b[1;31mCommand: 'c:/Users/User/AppData/Local/Programs/Python/Python39/python.exe -m pip install ipykernel -U --user --force-reinstall'"
     ]
    }
   ],
   "source": [
    "options = webdriver.ChromeOptions()\n",
    "driver = webdriver.Chrome(executable_path='chromedriver.exe', options=options)\n",
    "driver.set_window_size(1120, 1000)\n",
    "url =\"http://127.0.0.1:8000/\"\n",
    "driver.get(url)\n",
    "driver.title\n",
    "driver.get('http://127.0.0.1:8000/student/login/')\n",
    "from selenium.webdriver.common.by import By\n",
    "\n",
    "\n",
    "username_field=driver.find_element(By.XPATH,'/html/body/main/form/input[2]')\n",
    "password_field=driver.find_element(By.XPATH,'/html/body/main/form/input[3]')\n",
    "login_button=driver.find_element(By.XPATH,'/html/body/main/form/button')\n",
    "\n",
    "username_field.click()\n",
    "username_field.send_keys(\"admin\")\n",
    "password_field.click()\n",
    "password_field.send_keys(\"admin\")\n",
    "print(username_field.get_attribute('value'))\n",
    "print(password_field.get_attribute('value'))\n",
    "#time.sleep(3)\n",
    "if username_field.get_attribute('value')=='admin' and password_field.get_attribute('value')=='admin':\n",
    "    print(\"Test 1 is passed\")\n",
    "\n",
    "\n",
    "login_button.click()\n",
    "driver.close()\n"
   ]
  },
  {
   "cell_type": "code",
   "execution_count": null,
   "metadata": {},
   "outputs": [
    {
     "ename": "",
     "evalue": "",
     "output_type": "error",
     "traceback": [
      "\u001b[1;31mRunning cells with 'Python 3.9.6 64-bit' requires ipykernel package.\n",
      "\u001b[1;31mRun the following command to install 'ipykernel' into the Python environment. \n",
      "\u001b[1;31mCommand: 'c:/Users/User/AppData/Local/Programs/Python/Python39/python.exe -m pip install ipykernel -U --user --force-reinstall'"
     ]
    }
   ],
   "source": [
    "options = webdriver.ChromeOptions()\n",
    "driver = webdriver.Chrome(executable_path='chromedriver.exe', options=options)\n",
    "driver.set_window_size(1120, 1000)\n",
    "url =\"http://127.0.0.1:8000/\"\n",
    "driver.get(url)\n",
    "driver.title\n",
    "driver.get('http://127.0.0.1:8000/student/login/')\n",
    "from selenium.webdriver.common.by import By\n",
    "\n",
    "\n",
    "username_field=driver.find_element(By.XPATH,'/html/body/main/form/input[2]')\n",
    "password_field=driver.find_element(By.XPATH,'/html/body/main/form/input[3]')\n",
    "login_button=driver.find_element(By.XPATH,'/html/body/main/form/button')\n",
    "\n",
    "username_field.click()\n",
    "username_field.send_keys(\"admin\")\n",
    "password_field.click()\n",
    "password_field.send_keys(\"admin\")\n",
    "print(username_field.get_attribute('value'))\n",
    "print(password_field.get_attribute('value'))\n",
    "#time.sleep(3)\n",
    "if username_field.get_attribute('value')=='admin' and password_field.get_attribute('value')=='admin':\n",
    "    print(\"Test 1 is passed\")\n",
    "\n",
    "\n",
    "login_button.click()\n",
    "driver.close()\n"
   ]
  },
  {
   "cell_type": "code",
   "execution_count": null,
   "metadata": {},
   "outputs": [
    {
     "ename": "",
     "evalue": "",
     "output_type": "error",
     "traceback": [
      "\u001b[1;31mRunning cells with 'Python 3.9.6 64-bit' requires ipykernel package.\n",
      "\u001b[1;31mRun the following command to install 'ipykernel' into the Python environment. \n",
      "\u001b[1;31mCommand: 'c:/Users/User/AppData/Local/Programs/Python/Python39/python.exe -m pip install ipykernel -U --user --force-reinstall'"
     ]
    }
   ],
   "source": [
    "options = webdriver.ChromeOptions()\n",
    "driver = webdriver.Chrome(executable_path='chromedriver.exe', options=options)\n",
    "driver.set_window_size(1120, 1000)\n",
    "url =\"http://127.0.0.1:8000/\"\n",
    "driver.get(url)\n",
    "driver.title\n",
    "driver.get('http://127.0.0.1:8000/student/login/')\n",
    "from selenium.webdriver.common.by import By\n",
    "\n",
    "\n",
    "username_field=driver.find_element(By.XPATH,'/html/body/main/form/input[2]')\n",
    "password_field=driver.find_element(By.XPATH,'/html/body/main/form/input[3]')\n",
    "login_button=driver.find_element(By.XPATH,'/html/body/main/form/button')\n",
    "\n",
    "username_field.click()\n",
    "username_field.send_keys(\"admin\")\n",
    "password_field.click()\n",
    "password_field.send_keys(\"admin\")\n",
    "print(username_field.get_attribute('value'))\n",
    "print(password_field.get_attribute('value'))\n",
    "#time.sleep(3)\n",
    "if username_field.get_attribute('value')=='admin' and password_field.get_attribute('value')=='admin':\n",
    "    print(\"Test 1 is passed\")\n",
    "\n",
    "\n",
    "login_button.click()\n",
    "driver.close()\n"
   ]
  },
  {
   "cell_type": "code",
   "execution_count": null,
   "metadata": {},
   "outputs": [
    {
     "ename": "",
     "evalue": "",
     "output_type": "error",
     "traceback": [
      "\u001b[1;31mRunning cells with 'Python 3.9.6 64-bit' requires ipykernel package.\n",
      "\u001b[1;31mRun the following command to install 'ipykernel' into the Python environment. \n",
      "\u001b[1;31mCommand: 'c:/Users/User/AppData/Local/Programs/Python/Python39/python.exe -m pip install ipykernel -U --user --force-reinstall'"
     ]
    }
   ],
   "source": [
    "options = webdriver.ChromeOptions()\n",
    "driver = webdriver.Chrome(executable_path='chromedriver.exe', options=options)\n",
    "driver.set_window_size(1120, 1000)\n",
    "url =\"http://127.0.0.1:8000/\"\n",
    "driver.get(url)\n",
    "driver.title\n",
    "driver.get('http://127.0.0.1:8000/student/login/')\n",
    "from selenium.webdriver.common.by import By\n",
    "\n",
    "\n",
    "username_field=driver.find_element(By.XPATH,'/html/body/main/form/input[2]')\n",
    "password_field=driver.find_element(By.XPATH,'/html/body/main/form/input[3]')\n",
    "login_button=driver.find_element(By.XPATH,'/html/body/main/form/button')\n",
    "\n",
    "username_field.click()\n",
    "username_field.send_keys(\"admin\")\n",
    "password_field.click()\n",
    "password_field.send_keys(\"admin\")\n",
    "print(username_field.get_attribute('value'))\n",
    "print(password_field.get_attribute('value'))\n",
    "#time.sleep(3)\n",
    "if username_field.get_attribute('value')=='admin' and password_field.get_attribute('value')=='admin':\n",
    "    print(\"Test 1 is passed\")\n",
    "\n",
    "\n",
    "login_button.click()\n",
    "driver.close()\n"
   ]
  },
  {
   "cell_type": "code",
   "execution_count": null,
   "metadata": {},
   "outputs": [
    {
     "ename": "",
     "evalue": "",
     "output_type": "error",
     "traceback": [
      "\u001b[1;31mRunning cells with 'Python 3.9.6 64-bit' requires ipykernel package.\n",
      "\u001b[1;31mRun the following command to install 'ipykernel' into the Python environment. \n",
      "\u001b[1;31mCommand: 'c:/Users/User/AppData/Local/Programs/Python/Python39/python.exe -m pip install ipykernel -U --user --force-reinstall'"
     ]
    }
   ],
   "source": [
    "options = webdriver.ChromeOptions()\n",
    "driver = webdriver.Chrome(executable_path='chromedriver.exe', options=options)\n",
    "driver.set_window_size(1120, 1000)\n",
    "url =\"http://127.0.0.1:8000/\"\n",
    "driver.get(url)\n",
    "driver.title\n",
    "driver.get('http://127.0.0.1:8000/student/login/')\n",
    "from selenium.webdriver.common.by import By\n",
    "\n",
    "\n",
    "username_field=driver.find_element(By.XPATH,'/html/body/main/form/input[2]')\n",
    "password_field=driver.find_element(By.XPATH,'/html/body/main/form/input[3]')\n",
    "login_button=driver.find_element(By.XPATH,'/html/body/main/form/button')\n",
    "\n",
    "username_field.click()\n",
    "username_field.send_keys(\"admin\")\n",
    "password_field.click()\n",
    "password_field.send_keys(\"admin\")\n",
    "print(username_field.get_attribute('value'))\n",
    "print(password_field.get_attribute('value'))\n",
    "#time.sleep(3)\n",
    "if username_field.get_attribute('value')=='admin' and password_field.get_attribute('value')=='admin':\n",
    "    print(\"Test 1 is passed\")\n",
    "\n",
    "\n",
    "login_button.click()\n",
    "driver.close()\n"
   ]
  },
  {
   "cell_type": "code",
   "execution_count": null,
   "metadata": {},
   "outputs": [],
   "source": [
    "options = webdriver.ChromeOptions()\n",
    "driver = webdriver.Chrome(executable_path='chromedriver.exe', options=options)\n",
    "driver.set_window_size(1120, 1000)\n",
    "url =\"http://127.0.0.1:8000/\"\n",
    "driver.get(url)\n",
    "driver.title\n",
    "driver.get('http://127.0.0.1:8000/student/login/')\n",
    "from selenium.webdriver.common.by import By\n",
    "\n",
    "\n",
    "username_field=driver.find_element(By.XPATH,'/html/body/main/form/input[2]')\n",
    "password_field=driver.find_element(By.XPATH,'/html/body/main/form/input[3]')\n",
    "login_button=driver.find_element(By.XPATH,'/html/body/main/form/button')\n",
    "\n",
    "username_field.click()\n",
    "username_field.send_keys(\"admin\")\n",
    "password_field.click()\n",
    "password_field.send_keys(\"admin\")\n",
    "print(username_field.get_attribute('value'))\n",
    "print(password_field.get_attribute('value'))\n",
    "#time.sleep(3)\n",
    "if username_field.get_attribute('value')=='admin' and password_field.get_attribute('value')=='admin':\n",
    "    print(\"Test 1 is passed\")\n",
    "\n",
    "\n",
    "login_button.click()\n",
    "driver.close()\n"
   ]
  },
  {
   "cell_type": "code",
   "execution_count": null,
   "metadata": {},
   "outputs": [],
   "source": [
    "options = webdriver.ChromeOptions()\n",
    "driver = webdriver.Chrome(executable_path='chromedriver.exe', options=options)\n",
    "driver.set_window_size(1120, 1000)\n",
    "url =\"http://127.0.0.1:8000/\"\n",
    "driver.get(url)\n",
    "driver.title\n",
    "driver.get('http://127.0.0.1:8000/student/login/')\n",
    "from selenium.webdriver.common.by import By\n",
    "\n",
    "\n",
    "username_field=driver.find_element(By.XPATH,'/html/body/main/form/input[2]')\n",
    "password_field=driver.find_element(By.XPATH,'/html/body/main/form/input[3]')\n",
    "login_button=driver.find_element(By.XPATH,'/html/body/main/form/button')\n",
    "\n",
    "username_field.click()\n",
    "username_field.send_keys(\"admin\")\n",
    "password_field.click()\n",
    "password_field.send_keys(\"admin\")\n",
    "print(username_field.get_attribute('value'))\n",
    "print(password_field.get_attribute('value'))\n",
    "#time.sleep(3)\n",
    "if username_field.get_attribute('value')=='admin' and password_field.get_attribute('value')=='admin':\n",
    "    print(\"Test 1 is passed\")\n",
    "\n",
    "\n",
    "login_button.click()\n",
    "driver.close()\n"
   ]
  },
  {
   "cell_type": "code",
   "execution_count": null,
   "metadata": {},
   "outputs": [
    {
     "ename": "",
     "evalue": "",
     "output_type": "error",
     "traceback": [
      "\u001b[1;31mRunning cells with 'Python 3.9.6 64-bit' requires ipykernel package.\n",
      "\u001b[1;31mRun the following command to install 'ipykernel' into the Python environment. \n",
      "\u001b[1;31mCommand: 'c:/Users/User/AppData/Local/Programs/Python/Python39/python.exe -m pip install ipykernel -U --user --force-reinstall'"
     ]
    }
   ],
   "source": [
    "options = webdriver.ChromeOptions()\n",
    "driver = webdriver.Chrome(executable_path='chromedriver.exe', options=options)\n",
    "driver.set_window_size(1120, 1000)\n",
    "url =\"http://127.0.0.1:8000/\"\n",
    "driver.get(url)\n",
    "driver.title\n",
    "driver.get('http://127.0.0.1:8000/student/login/')\n",
    "from selenium.webdriver.common.by import By\n",
    "\n",
    "\n",
    "username_field=driver.find_element(By.XPATH,'/html/body/main/form/input[2]')\n",
    "password_field=driver.find_element(By.XPATH,'/html/body/main/form/input[3]')\n",
    "login_button=driver.find_element(By.XPATH,'/html/body/main/form/button')\n",
    "\n",
    "username_field.click()\n",
    "username_field.send_keys(\"admin\")\n",
    "password_field.click()\n",
    "password_field.send_keys(\"admin\")\n",
    "print(username_field.get_attribute('value'))\n",
    "print(password_field.get_attribute('value'))\n",
    "#time.sleep(3)\n",
    "if username_field.get_attribute('value')=='admin' and password_field.get_attribute('value')=='admin':\n",
    "    print(\"Test 1 is passed\")\n",
    "\n",
    "\n",
    "login_button.click()\n",
    "driver.close()\n"
   ]
  },
  {
   "cell_type": "code",
   "execution_count": null,
   "metadata": {},
   "outputs": [
    {
     "ename": "",
     "evalue": "",
     "output_type": "error",
     "traceback": [
      "\u001b[1;31mRunning cells with 'Python 3.9.6 64-bit' requires ipykernel package.\n",
      "\u001b[1;31mRun the following command to install 'ipykernel' into the Python environment. \n",
      "\u001b[1;31mCommand: 'c:/Users/User/AppData/Local/Programs/Python/Python39/python.exe -m pip install ipykernel -U --user --force-reinstall'"
     ]
    }
   ],
   "source": [
    "options = webdriver.ChromeOptions()\n",
    "driver = webdriver.Chrome(executable_path='chromedriver.exe', options=options)\n",
    "driver.set_window_size(1120, 1000)\n",
    "url =\"http://127.0.0.1:8000/\"\n",
    "driver.get(url)\n",
    "driver.title\n",
    "driver.get('http://127.0.0.1:8000/student/login/')\n",
    "from selenium.webdriver.common.by import By\n",
    "\n",
    "\n",
    "username_field=driver.find_element(By.XPATH,'/html/body/main/form/input[2]')\n",
    "password_field=driver.find_element(By.XPATH,'/html/body/main/form/input[3]')\n",
    "login_button=driver.find_element(By.XPATH,'/html/body/main/form/button')\n",
    "\n",
    "username_field.click()\n",
    "username_field.send_keys(\"admin\")\n",
    "password_field.click()\n",
    "password_field.send_keys(\"admin\")\n",
    "print(username_field.get_attribute('value'))\n",
    "print(password_field.get_attribute('value'))\n",
    "#time.sleep(3)\n",
    "if username_field.get_attribute('value')=='admin' and password_field.get_attribute('value')=='admin':\n",
    "    print(\"Test 1 is passed\")\n",
    "\n",
    "\n",
    "login_button.click()\n",
    "driver.close()\n"
   ]
  },
  {
   "cell_type": "code",
   "execution_count": null,
   "metadata": {},
   "outputs": [
    {
     "ename": "",
     "evalue": "",
     "output_type": "error",
     "traceback": [
      "\u001b[1;31mRunning cells with 'Python 3.9.6 64-bit' requires ipykernel package.\n",
      "\u001b[1;31mRun the following command to install 'ipykernel' into the Python environment. \n",
      "\u001b[1;31mCommand: 'c:/Users/User/AppData/Local/Programs/Python/Python39/python.exe -m pip install ipykernel -U --user --force-reinstall'"
     ]
    }
   ],
   "source": [
    "options = webdriver.ChromeOptions()\n",
    "driver = webdriver.Chrome(executable_path='chromedriver.exe', options=options)\n",
    "driver.set_window_size(1120, 1000)\n",
    "url =\"http://127.0.0.1:8000/\"\n",
    "driver.get(url)\n",
    "driver.title\n",
    "driver.get('http://127.0.0.1:8000/student/login/')\n",
    "from selenium.webdriver.common.by import By\n",
    "\n",
    "\n",
    "username_field=driver.find_element(By.XPATH,'/html/body/main/form/input[2]')\n",
    "password_field=driver.find_element(By.XPATH,'/html/body/main/form/input[3]')\n",
    "login_button=driver.find_element(By.XPATH,'/html/body/main/form/button')\n",
    "\n",
    "username_field.click()\n",
    "username_field.send_keys(\"admin\")\n",
    "password_field.click()\n",
    "password_field.send_keys(\"admin\")\n",
    "print(username_field.get_attribute('value'))\n",
    "print(password_field.get_attribute('value'))\n",
    "#time.sleep(3)\n",
    "if username_field.get_attribute('value')=='admin' and password_field.get_attribute('value')=='admin':\n",
    "    print(\"Test 1 is passed\")\n",
    "\n",
    "\n",
    "login_button.click()\n",
    "driver.close()\n"
   ]
  },
  {
   "cell_type": "code",
   "execution_count": null,
   "metadata": {},
   "outputs": [
    {
     "ename": "",
     "evalue": "",
     "output_type": "error",
     "traceback": [
      "\u001b[1;31mRunning cells with 'Python 3.9.6 64-bit' requires ipykernel package.\n",
      "\u001b[1;31mRun the following command to install 'ipykernel' into the Python environment. \n",
      "\u001b[1;31mCommand: 'c:/Users/User/AppData/Local/Programs/Python/Python39/python.exe -m pip install ipykernel -U --user --force-reinstall'"
     ]
    }
   ],
   "source": [
    "options = webdriver.ChromeOptions()\n",
    "driver = webdriver.Chrome(executable_path='chromedriver.exe', options=options)\n",
    "driver.set_window_size(1120, 1000)\n",
    "url =\"http://127.0.0.1:8000/\"\n",
    "driver.get(url)\n",
    "driver.title\n",
    "driver.get('http://127.0.0.1:8000/student/login/')\n",
    "from selenium.webdriver.common.by import By\n",
    "\n",
    "\n",
    "username_field=driver.find_element(By.XPATH,'/html/body/main/form/input[2]')\n",
    "password_field=driver.find_element(By.XPATH,'/html/body/main/form/input[3]')\n",
    "login_button=driver.find_element(By.XPATH,'/html/body/main/form/button')\n",
    "\n",
    "username_field.click()\n",
    "username_field.send_keys(\"admin\")\n",
    "password_field.click()\n",
    "password_field.send_keys(\"admin\")\n",
    "print(username_field.get_attribute('value'))\n",
    "print(password_field.get_attribute('value'))\n",
    "#time.sleep(3)\n",
    "if username_field.get_attribute('value')=='admin' and password_field.get_attribute('value')=='admin':\n",
    "    print(\"Test 1 is passed\")\n",
    "\n",
    "\n",
    "login_button.click()\n",
    "driver.close()\n"
   ]
  },
  {
   "cell_type": "code",
   "execution_count": null,
   "metadata": {},
   "outputs": [
    {
     "ename": "",
     "evalue": "",
     "output_type": "error",
     "traceback": [
      "\u001b[1;31mRunning cells with 'Python 3.9.6 64-bit' requires ipykernel package.\n",
      "\u001b[1;31mRun the following command to install 'ipykernel' into the Python environment. \n",
      "\u001b[1;31mCommand: 'c:/Users/User/AppData/Local/Programs/Python/Python39/python.exe -m pip install ipykernel -U --user --force-reinstall'"
     ]
    }
   ],
   "source": [
    "options = webdriver.ChromeOptions()\n",
    "driver = webdriver.Chrome(executable_path='chromedriver.exe', options=options)\n",
    "driver.set_window_size(1120, 1000)\n",
    "url =\"http://127.0.0.1:8000/\"\n",
    "driver.get(url)\n",
    "driver.title\n",
    "driver.get('http://127.0.0.1:8000/student/login/')\n",
    "from selenium.webdriver.common.by import By\n",
    "\n",
    "\n",
    "username_field=driver.find_element(By.XPATH,'/html/body/main/form/input[2]')\n",
    "password_field=driver.find_element(By.XPATH,'/html/body/main/form/input[3]')\n",
    "login_button=driver.find_element(By.XPATH,'/html/body/main/form/button')\n",
    "\n",
    "username_field.click()\n",
    "username_field.send_keys(\"admin\")\n",
    "password_field.click()\n",
    "password_field.send_keys(\"admin\")\n",
    "print(username_field.get_attribute('value'))\n",
    "print(password_field.get_attribute('value'))\n",
    "#time.sleep(3)\n",
    "if username_field.get_attribute('value')=='admin' and password_field.get_attribute('value')=='admin':\n",
    "    print(\"Test 1 is passed\")\n",
    "\n",
    "\n",
    "login_button.click()\n",
    "driver.close()\n"
   ]
  },
  {
   "cell_type": "code",
   "execution_count": null,
   "metadata": {},
   "outputs": [
    {
     "ename": "",
     "evalue": "",
     "output_type": "error",
     "traceback": [
      "\u001b[1;31mRunning cells with 'Python 3.9.6 64-bit' requires ipykernel package.\n",
      "\u001b[1;31mRun the following command to install 'ipykernel' into the Python environment. \n",
      "\u001b[1;31mCommand: 'c:/Users/User/AppData/Local/Programs/Python/Python39/python.exe -m pip install ipykernel -U --user --force-reinstall'"
     ]
    }
   ],
   "source": [
    "options = webdriver.ChromeOptions()\n",
    "driver = webdriver.Chrome(executable_path='chromedriver.exe', options=options)\n",
    "driver.set_window_size(1120, 1000)\n",
    "url =\"http://127.0.0.1:8000/\"\n",
    "driver.get(url)\n",
    "driver.title\n",
    "driver.get('http://127.0.0.1:8000/student/login/')\n",
    "from selenium.webdriver.common.by import By\n",
    "\n",
    "\n",
    "username_field=driver.find_element(By.XPATH,'/html/body/main/form/input[2]')\n",
    "password_field=driver.find_element(By.XPATH,'/html/body/main/form/input[3]')\n",
    "login_button=driver.find_element(By.XPATH,'/html/body/main/form/button')\n",
    "\n",
    "username_field.click()\n",
    "username_field.send_keys(\"admin\")\n",
    "password_field.click()\n",
    "password_field.send_keys(\"admin\")\n",
    "print(username_field.get_attribute('value'))\n",
    "print(password_field.get_attribute('value'))\n",
    "#time.sleep(3)\n",
    "if username_field.get_attribute('value')=='admin' and password_field.get_attribute('value')=='admin':\n",
    "    print(\"Test 1 is passed\")\n",
    "\n",
    "\n",
    "login_button.click()\n",
    "driver.close()\n"
   ]
  },
  {
   "cell_type": "code",
   "execution_count": null,
   "metadata": {},
   "outputs": [
    {
     "ename": "",
     "evalue": "",
     "output_type": "error",
     "traceback": [
      "\u001b[1;31mRunning cells with 'Python 3.9.6 64-bit' requires ipykernel package.\n",
      "\u001b[1;31mRun the following command to install 'ipykernel' into the Python environment. \n",
      "\u001b[1;31mCommand: 'c:/Users/User/AppData/Local/Programs/Python/Python39/python.exe -m pip install ipykernel -U --user --force-reinstall'"
     ]
    }
   ],
   "source": [
    "options = webdriver.ChromeOptions()\n",
    "driver = webdriver.Chrome(executable_path='chromedriver.exe', options=options)\n",
    "driver.set_window_size(1120, 1000)\n",
    "url =\"http://127.0.0.1:8000/\"\n",
    "driver.get(url)\n",
    "driver.title\n",
    "driver.get('http://127.0.0.1:8000/student/login/')\n",
    "from selenium.webdriver.common.by import By\n",
    "\n",
    "\n",
    "username_field=driver.find_element(By.XPATH,'/html/body/main/form/input[2]')\n",
    "password_field=driver.find_element(By.XPATH,'/html/body/main/form/input[3]')\n",
    "login_button=driver.find_element(By.XPATH,'/html/body/main/form/button')\n",
    "\n",
    "username_field.click()\n",
    "username_field.send_keys(\"admin\")\n",
    "password_field.click()\n",
    "password_field.send_keys(\"admin\")\n",
    "print(username_field.get_attribute('value'))\n",
    "print(password_field.get_attribute('value'))\n",
    "#time.sleep(3)\n",
    "if username_field.get_attribute('value')=='admin' and password_field.get_attribute('value')=='admin':\n",
    "    print(\"Test 1 is passed\")\n",
    "\n",
    "\n",
    "login_button.click()\n",
    "driver.close()\n"
   ]
  },
  {
   "cell_type": "code",
   "execution_count": null,
   "metadata": {},
   "outputs": [
    {
     "ename": "",
     "evalue": "",
     "output_type": "error",
     "traceback": [
      "\u001b[1;31mRunning cells with 'Python 3.9.6 64-bit' requires ipykernel package.\n",
      "\u001b[1;31mRun the following command to install 'ipykernel' into the Python environment. \n",
      "\u001b[1;31mCommand: 'c:/Users/User/AppData/Local/Programs/Python/Python39/python.exe -m pip install ipykernel -U --user --force-reinstall'"
     ]
    }
   ],
   "source": [
    "options = webdriver.ChromeOptions()\n",
    "driver = webdriver.Chrome(executable_path='chromedriver.exe', options=options)\n",
    "driver.set_window_size(1120, 1000)\n",
    "url =\"http://127.0.0.1:8000/\"\n",
    "driver.get(url)\n",
    "driver.title\n",
    "driver.get('http://127.0.0.1:8000/student/login/')\n",
    "from selenium.webdriver.common.by import By\n",
    "\n",
    "\n",
    "username_field=driver.find_element(By.XPATH,'/html/body/main/form/input[2]')\n",
    "password_field=driver.find_element(By.XPATH,'/html/body/main/form/input[3]')\n",
    "login_button=driver.find_element(By.XPATH,'/html/body/main/form/button')\n",
    "\n",
    "username_field.click()\n",
    "username_field.send_keys(\"admin\")\n",
    "password_field.click()\n",
    "password_field.send_keys(\"admin\")\n",
    "print(username_field.get_attribute('value'))\n",
    "print(password_field.get_attribute('value'))\n",
    "#time.sleep(3)\n",
    "if username_field.get_attribute('value')=='admin' and password_field.get_attribute('value')=='admin':\n",
    "    print(\"Test 1 is passed\")\n",
    "\n",
    "\n",
    "login_button.click()\n",
    "driver.close()\n"
   ]
  },
  {
   "cell_type": "code",
   "execution_count": null,
   "metadata": {},
   "outputs": [
    {
     "ename": "",
     "evalue": "",
     "output_type": "error",
     "traceback": [
      "\u001b[1;31mRunning cells with 'Python 3.9.6 64-bit' requires ipykernel package.\n",
      "\u001b[1;31mRun the following command to install 'ipykernel' into the Python environment. \n",
      "\u001b[1;31mCommand: 'c:/Users/User/AppData/Local/Programs/Python/Python39/python.exe -m pip install ipykernel -U --user --force-reinstall'"
     ]
    }
   ],
   "source": [
    "options = webdriver.ChromeOptions()\n",
    "driver = webdriver.Chrome(executable_path='chromedriver.exe', options=options)\n",
    "driver.set_window_size(1120, 1000)\n",
    "url =\"http://127.0.0.1:8000/\"\n",
    "driver.get(url)\n",
    "driver.title\n",
    "driver.get('http://127.0.0.1:8000/student/login/')\n",
    "from selenium.webdriver.common.by import By\n",
    "\n",
    "\n",
    "username_field=driver.find_element(By.XPATH,'/html/body/main/form/input[2]')\n",
    "password_field=driver.find_element(By.XPATH,'/html/body/main/form/input[3]')\n",
    "login_button=driver.find_element(By.XPATH,'/html/body/main/form/button')\n",
    "\n",
    "username_field.click()\n",
    "username_field.send_keys(\"admin\")\n",
    "password_field.click()\n",
    "password_field.send_keys(\"admin\")\n",
    "print(username_field.get_attribute('value'))\n",
    "print(password_field.get_attribute('value'))\n",
    "#time.sleep(3)\n",
    "if username_field.get_attribute('value')=='admin' and password_field.get_attribute('value')=='admin':\n",
    "    print(\"Test 1 is passed\")\n",
    "\n",
    "\n",
    "login_button.click()\n",
    "driver.close()\n"
   ]
  },
  {
   "cell_type": "code",
   "execution_count": null,
   "metadata": {},
   "outputs": [
    {
     "ename": "",
     "evalue": "",
     "output_type": "error",
     "traceback": [
      "\u001b[1;31mRunning cells with 'Python 3.9.6 64-bit' requires ipykernel package.\n",
      "\u001b[1;31mRun the following command to install 'ipykernel' into the Python environment. \n",
      "\u001b[1;31mCommand: 'c:/Users/User/AppData/Local/Programs/Python/Python39/python.exe -m pip install ipykernel -U --user --force-reinstall'"
     ]
    }
   ],
   "source": [
    "options = webdriver.ChromeOptions()\n",
    "driver = webdriver.Chrome(executable_path='chromedriver.exe', options=options)\n",
    "driver.set_window_size(1120, 1000)\n",
    "url =\"http://127.0.0.1:8000/\"\n",
    "driver.get(url)\n",
    "driver.title\n",
    "driver.get('http://127.0.0.1:8000/student/login/')\n",
    "from selenium.webdriver.common.by import By\n",
    "\n",
    "\n",
    "username_field=driver.find_element(By.XPATH,'/html/body/main/form/input[2]')\n",
    "password_field=driver.find_element(By.XPATH,'/html/body/main/form/input[3]')\n",
    "login_button=driver.find_element(By.XPATH,'/html/body/main/form/button')\n",
    "\n",
    "username_field.click()\n",
    "username_field.send_keys(\"admin\")\n",
    "password_field.click()\n",
    "password_field.send_keys(\"admin\")\n",
    "print(username_field.get_attribute('value'))\n",
    "print(password_field.get_attribute('value'))\n",
    "#time.sleep(3)\n",
    "if username_field.get_attribute('value')=='admin' and password_field.get_attribute('value')=='admin':\n",
    "    print(\"Test 1 is passed\")\n",
    "\n",
    "\n",
    "login_button.click()\n",
    "driver.close()\n"
   ]
  },
  {
   "cell_type": "code",
   "execution_count": null,
   "metadata": {},
   "outputs": [
    {
     "ename": "",
     "evalue": "",
     "output_type": "error",
     "traceback": [
      "\u001b[1;31mRunning cells with 'Python 3.9.6 64-bit' requires ipykernel package.\n",
      "\u001b[1;31mRun the following command to install 'ipykernel' into the Python environment. \n",
      "\u001b[1;31mCommand: 'c:/Users/User/AppData/Local/Programs/Python/Python39/python.exe -m pip install ipykernel -U --user --force-reinstall'"
     ]
    }
   ],
   "source": [
    "options = webdriver.ChromeOptions()\n",
    "driver = webdriver.Chrome(executable_path='chromedriver.exe', options=options)\n",
    "driver.set_window_size(1120, 1000)\n",
    "url =\"http://127.0.0.1:8000/\"\n",
    "driver.get(url)\n",
    "driver.title\n",
    "driver.get('http://127.0.0.1:8000/student/login/')\n",
    "from selenium.webdriver.common.by import By\n",
    "\n",
    "\n",
    "username_field=driver.find_element(By.XPATH,'/html/body/main/form/input[2]')\n",
    "password_field=driver.find_element(By.XPATH,'/html/body/main/form/input[3]')\n",
    "login_button=driver.find_element(By.XPATH,'/html/body/main/form/button')\n",
    "\n",
    "username_field.click()\n",
    "username_field.send_keys(\"admin\")\n",
    "password_field.click()\n",
    "password_field.send_keys(\"admin\")\n",
    "print(username_field.get_attribute('value'))\n",
    "print(password_field.get_attribute('value'))\n",
    "#time.sleep(3)\n",
    "if username_field.get_attribute('value')=='admin' and password_field.get_attribute('value')=='admin':\n",
    "    print(\"Test 1 is passed\")\n",
    "\n",
    "\n",
    "login_button.click()\n",
    "driver.close()\n"
   ]
  },
  {
   "cell_type": "code",
   "execution_count": null,
   "metadata": {},
   "outputs": [
    {
     "ename": "",
     "evalue": "",
     "output_type": "error",
     "traceback": [
      "\u001b[1;31mRunning cells with 'Python 3.9.6 64-bit' requires ipykernel package.\n",
      "\u001b[1;31mRun the following command to install 'ipykernel' into the Python environment. \n",
      "\u001b[1;31mCommand: 'c:/Users/User/AppData/Local/Programs/Python/Python39/python.exe -m pip install ipykernel -U --user --force-reinstall'"
     ]
    }
   ],
   "source": [
    "options = webdriver.ChromeOptions()\n",
    "driver = webdriver.Chrome(executable_path='chromedriver.exe', options=options)\n",
    "driver.set_window_size(1120, 1000)\n",
    "url =\"http://127.0.0.1:8000/\"\n",
    "driver.get(url)\n",
    "driver.title\n",
    "driver.get('http://127.0.0.1:8000/student/login/')\n",
    "from selenium.webdriver.common.by import By\n",
    "\n",
    "\n",
    "username_field=driver.find_element(By.XPATH,'/html/body/main/form/input[2]')\n",
    "password_field=driver.find_element(By.XPATH,'/html/body/main/form/input[3]')\n",
    "login_button=driver.find_element(By.XPATH,'/html/body/main/form/button')\n",
    "\n",
    "username_field.click()\n",
    "username_field.send_keys(\"admin\")\n",
    "password_field.click()\n",
    "password_field.send_keys(\"admin\")\n",
    "print(username_field.get_attribute('value'))\n",
    "print(password_field.get_attribute('value'))\n",
    "#time.sleep(3)\n",
    "if username_field.get_attribute('value')=='admin' and password_field.get_attribute('value')=='admin':\n",
    "    print(\"Test 1 is passed\")\n",
    "\n",
    "\n",
    "login_button.click()\n",
    "driver.close()\n"
   ]
  },
  {
   "cell_type": "code",
   "execution_count": null,
   "metadata": {},
   "outputs": [
    {
     "ename": "",
     "evalue": "",
     "output_type": "error",
     "traceback": [
      "\u001b[1;31mRunning cells with 'Python 3.9.6 64-bit' requires ipykernel package.\n",
      "\u001b[1;31mRun the following command to install 'ipykernel' into the Python environment. \n",
      "\u001b[1;31mCommand: 'c:/Users/User/AppData/Local/Programs/Python/Python39/python.exe -m pip install ipykernel -U --user --force-reinstall'"
     ]
    }
   ],
   "source": [
    "options = webdriver.ChromeOptions()\n",
    "driver = webdriver.Chrome(executable_path='chromedriver.exe', options=options)\n",
    "driver.set_window_size(1120, 1000)\n",
    "url =\"http://127.0.0.1:8000/\"\n",
    "driver.get(url)\n",
    "driver.title\n",
    "driver.get('http://127.0.0.1:8000/student/login/')\n",
    "from selenium.webdriver.common.by import By\n",
    "\n",
    "\n",
    "username_field=driver.find_element(By.XPATH,'/html/body/main/form/input[2]')\n",
    "password_field=driver.find_element(By.XPATH,'/html/body/main/form/input[3]')\n",
    "login_button=driver.find_element(By.XPATH,'/html/body/main/form/button')\n",
    "\n",
    "username_field.click()\n",
    "username_field.send_keys(\"admin\")\n",
    "password_field.click()\n",
    "password_field.send_keys(\"admin\")\n",
    "print(username_field.get_attribute('value'))\n",
    "print(password_field.get_attribute('value'))\n",
    "#time.sleep(3)\n",
    "if username_field.get_attribute('value')=='admin' and password_field.get_attribute('value')=='admin':\n",
    "    print(\"Test 1 is passed\")\n",
    "\n",
    "\n",
    "login_button.click()\n",
    "driver.close()\n"
   ]
  },
  {
   "cell_type": "code",
   "execution_count": null,
   "metadata": {},
   "outputs": [
    {
     "ename": "",
     "evalue": "",
     "output_type": "error",
     "traceback": [
      "\u001b[1;31mRunning cells with 'Python 3.9.6 64-bit' requires ipykernel package.\n",
      "\u001b[1;31mRun the following command to install 'ipykernel' into the Python environment. \n",
      "\u001b[1;31mCommand: 'c:/Users/User/AppData/Local/Programs/Python/Python39/python.exe -m pip install ipykernel -U --user --force-reinstall'"
     ]
    }
   ],
   "source": [
    "options = webdriver.ChromeOptions()\n",
    "driver = webdriver.Chrome(executable_path='chromedriver.exe', options=options)\n",
    "driver.set_window_size(1120, 1000)\n",
    "url =\"http://127.0.0.1:8000/\"\n",
    "driver.get(url)\n",
    "driver.title\n",
    "driver.get('http://127.0.0.1:8000/student/login/')\n",
    "from selenium.webdriver.common.by import By\n",
    "\n",
    "\n",
    "username_field=driver.find_element(By.XPATH,'/html/body/main/form/input[2]')\n",
    "password_field=driver.find_element(By.XPATH,'/html/body/main/form/input[3]')\n",
    "login_button=driver.find_element(By.XPATH,'/html/body/main/form/button')\n",
    "\n",
    "username_field.click()\n",
    "username_field.send_keys(\"admin\")\n",
    "password_field.click()\n",
    "password_field.send_keys(\"admin\")\n",
    "print(username_field.get_attribute('value'))\n",
    "print(password_field.get_attribute('value'))\n",
    "#time.sleep(3)\n",
    "if username_field.get_attribute('value')=='admin' and password_field.get_attribute('value')=='admin':\n",
    "    print(\"Test 1 is passed\")\n",
    "\n",
    "\n",
    "login_button.click()\n",
    "driver.close()\n"
   ]
  },
  {
   "cell_type": "code",
   "execution_count": null,
   "metadata": {},
   "outputs": [
    {
     "ename": "",
     "evalue": "",
     "output_type": "error",
     "traceback": [
      "\u001b[1;31mRunning cells with 'Python 3.9.6 64-bit' requires ipykernel package.\n",
      "\u001b[1;31mRun the following command to install 'ipykernel' into the Python environment. \n",
      "\u001b[1;31mCommand: 'c:/Users/User/AppData/Local/Programs/Python/Python39/python.exe -m pip install ipykernel -U --user --force-reinstall'"
     ]
    }
   ],
   "source": [
    "options = webdriver.ChromeOptions()\n",
    "driver = webdriver.Chrome(executable_path='chromedriver.exe', options=options)\n",
    "driver.set_window_size(1120, 1000)\n",
    "url =\"http://127.0.0.1:8000/\"\n",
    "driver.get(url)\n",
    "driver.title\n",
    "driver.get('http://127.0.0.1:8000/student/login/')\n",
    "from selenium.webdriver.common.by import By\n",
    "\n",
    "\n",
    "username_field=driver.find_element(By.XPATH,'/html/body/main/form/input[2]')\n",
    "password_field=driver.find_element(By.XPATH,'/html/body/main/form/input[3]')\n",
    "login_button=driver.find_element(By.XPATH,'/html/body/main/form/button')\n",
    "\n",
    "username_field.click()\n",
    "username_field.send_keys(\"admin\")\n",
    "password_field.click()\n",
    "password_field.send_keys(\"admin\")\n",
    "print(username_field.get_attribute('value'))\n",
    "print(password_field.get_attribute('value'))\n",
    "#time.sleep(3)\n",
    "if username_field.get_attribute('value')=='admin' and password_field.get_attribute('value')=='admin':\n",
    "    print(\"Test 1 is passed\")\n",
    "\n",
    "\n",
    "login_button.click()\n",
    "driver.close()\n"
   ]
  },
  {
   "cell_type": "code",
   "execution_count": null,
   "metadata": {},
   "outputs": [
    {
     "ename": "",
     "evalue": "",
     "output_type": "error",
     "traceback": [
      "\u001b[1;31mRunning cells with 'Python 3.9.6 64-bit' requires ipykernel package.\n",
      "\u001b[1;31mRun the following command to install 'ipykernel' into the Python environment. \n",
      "\u001b[1;31mCommand: 'c:/Users/User/AppData/Local/Programs/Python/Python39/python.exe -m pip install ipykernel -U --user --force-reinstall'"
     ]
    }
   ],
   "source": [
    "options = webdriver.ChromeOptions()\n",
    "driver = webdriver.Chrome(executable_path='chromedriver.exe', options=options)\n",
    "driver.set_window_size(1120, 1000)\n",
    "url =\"http://127.0.0.1:8000/\"\n",
    "driver.get(url)\n",
    "driver.title\n",
    "driver.get('http://127.0.0.1:8000/student/login/')\n",
    "from selenium.webdriver.common.by import By\n",
    "\n",
    "\n",
    "username_field=driver.find_element(By.XPATH,'/html/body/main/form/input[2]')\n",
    "password_field=driver.find_element(By.XPATH,'/html/body/main/form/input[3]')\n",
    "login_button=driver.find_element(By.XPATH,'/html/body/main/form/button')\n",
    "\n",
    "username_field.click()\n",
    "username_field.send_keys(\"admin\")\n",
    "password_field.click()\n",
    "password_field.send_keys(\"admin\")\n",
    "print(username_field.get_attribute('value'))\n",
    "print(password_field.get_attribute('value'))\n",
    "#time.sleep(3)\n",
    "if username_field.get_attribute('value')=='admin' and password_field.get_attribute('value')=='admin':\n",
    "    print(\"Test 1 is passed\")\n",
    "\n",
    "\n",
    "login_button.click()\n",
    "driver.close()\n"
   ]
  },
  {
   "cell_type": "code",
   "execution_count": null,
   "metadata": {},
   "outputs": [
    {
     "ename": "",
     "evalue": "",
     "output_type": "error",
     "traceback": [
      "\u001b[1;31mRunning cells with 'Python 3.9.6 64-bit' requires ipykernel package.\n",
      "\u001b[1;31mRun the following command to install 'ipykernel' into the Python environment. \n",
      "\u001b[1;31mCommand: 'c:/Users/User/AppData/Local/Programs/Python/Python39/python.exe -m pip install ipykernel -U --user --force-reinstall'"
     ]
    }
   ],
   "source": [
    "options = webdriver.ChromeOptions()\n",
    "driver = webdriver.Chrome(executable_path='chromedriver.exe', options=options)\n",
    "driver.set_window_size(1120, 1000)\n",
    "url =\"http://127.0.0.1:8000/\"\n",
    "driver.get(url)\n",
    "driver.title\n",
    "driver.get('http://127.0.0.1:8000/student/login/')\n",
    "from selenium.webdriver.common.by import By\n",
    "\n",
    "\n",
    "username_field=driver.find_element(By.XPATH,'/html/body/main/form/input[2]')\n",
    "password_field=driver.find_element(By.XPATH,'/html/body/main/form/input[3]')\n",
    "login_button=driver.find_element(By.XPATH,'/html/body/main/form/button')\n",
    "\n",
    "username_field.click()\n",
    "username_field.send_keys(\"admin\")\n",
    "password_field.click()\n",
    "password_field.send_keys(\"admin\")\n",
    "print(username_field.get_attribute('value'))\n",
    "print(password_field.get_attribute('value'))\n",
    "#time.sleep(3)\n",
    "if username_field.get_attribute('value')=='admin' and password_field.get_attribute('value')=='admin':\n",
    "    print(\"Test 1 is passed\")\n",
    "\n",
    "\n",
    "login_button.click()\n",
    "driver.close()\n"
   ]
  },
  {
   "cell_type": "code",
   "execution_count": null,
   "metadata": {},
   "outputs": [
    {
     "ename": "",
     "evalue": "",
     "output_type": "error",
     "traceback": [
      "\u001b[1;31mRunning cells with 'Python 3.9.6 64-bit' requires ipykernel package.\n",
      "\u001b[1;31mRun the following command to install 'ipykernel' into the Python environment. \n",
      "\u001b[1;31mCommand: 'c:/Users/User/AppData/Local/Programs/Python/Python39/python.exe -m pip install ipykernel -U --user --force-reinstall'"
     ]
    }
   ],
   "source": [
    "options = webdriver.ChromeOptions()\n",
    "driver = webdriver.Chrome(executable_path='chromedriver.exe', options=options)\n",
    "driver.set_window_size(1120, 1000)\n",
    "url =\"http://127.0.0.1:8000/\"\n",
    "driver.get(url)\n",
    "driver.title\n",
    "driver.get('http://127.0.0.1:8000/student/login/')\n",
    "from selenium.webdriver.common.by import By\n",
    "\n"
   ]
  },
  {
   "cell_type": "code",
   "execution_count": null,
   "metadata": {},
   "outputs": [
    {
     "ename": "",
     "evalue": "",
     "output_type": "error",
     "traceback": [
      "\u001b[1;31mRunning cells with 'Python 3.9.6 64-bit' requires ipykernel package.\n",
      "\u001b[1;31mRun the following command to install 'ipykernel' into the Python environment. \n",
      "\u001b[1;31mCommand: 'c:/Users/User/AppData/Local/Programs/Python/Python39/python.exe -m pip install ipykernel -U --user --force-reinstall'"
     ]
    }
   ],
   "source": [
    "options = webdriver.ChromeOptions()\n",
    "driver = webdriver.Chrome(executable_path='chromedriver.exe', options=options)\n",
    "driver.set_window_size(1120, 1000)\n",
    "url =\"http://127.0.0.1:8000/\"\n",
    "driver.get(url)\n",
    "driver.title\n",
    "driver.get('http://127.0.0.1:8000/student/login/')\n",
    "from selenium.webdriver.common.by import By\n",
    "\n",
    "\n",
    "username_field=driver.find_element(By.XPATH,'/html/body/main/form/input[2]')\n",
    "password_field=driver.find_element(By.XPATH,'/html/body/main/form/input[3]')\n",
    "login_button=driver.find_element(By.XPATH,'/html/body/main/form/button')\n",
    "\n",
    "username_field.click()\n",
    "username_field.send_keys(\"admin\")\n",
    "password_field.click()\n",
    "password_field.send_keys(\"admin\")\n",
    "print(username_field.get_attribute('value'))\n",
    "print(password_field.get_attribute('value'))\n",
    "#time.sleep(3)\n",
    "if username_field.get_attribute('value')=='admin' and password_field.get_attribute('value')=='admin':\n",
    "    print(\"Test 1 is passed\")\n",
    "\n",
    "\n",
    "login_button.click()\n",
    "driver.close()\n"
   ]
  },
  {
   "cell_type": "code",
   "execution_count": null,
   "metadata": {},
   "outputs": [],
   "source": [
    "options = webdriver.ChromeOptions()\n",
    "driver = webdriver.Chrome(executable_path='chromedriver.exe', options=options)\n",
    "driver.set_window_size(1120, 1000)\n",
    "url =\"http://127.0.0.1:8000/\"\n",
    "driver.get(url)\n",
    "driver.title\n",
    "driver.get('http://127.0.0.1:8000/student/login/')\n",
    "from selenium.webdriver.common.by import By\n",
    "\n",
    "\n",
    "username_field=driver.find_element(By.XPATH,'/html/body/main/form/input[2]')\n",
    "password_field=driver.find_element(By.XPATH,'/html/body/main/form/input[3]')\n",
    "login_button=driver.find_element(By.XPATH,'/html/body/main/form/button')\n",
    "\n",
    "username_field.click()\n",
    "username_field.send_keys(\"admin\")\n",
    "password_field.click()\n",
    "password_field.send_keys(\"admin\")\n",
    "print(username_field.get_attribute('value'))\n",
    "print(password_field.get_attribute('value'))\n",
    "#time.sleep(3)\n",
    "if username_field.get_attribute('value')=='admin' and password_field.get_attribute('value')=='admin':\n",
    "    print(\"Test 1 is passed\")\n",
    "\n",
    "\n",
    "login_button.click()\n",
    "driver.close()\n"
   ]
  },
  {
   "cell_type": "code",
   "execution_count": null,
   "metadata": {},
   "outputs": [
    {
     "ename": "",
     "evalue": "",
     "output_type": "error",
     "traceback": [
      "\u001b[1;31mRunning cells with 'Python 3.9.6 64-bit' requires ipykernel package.\n",
      "\u001b[1;31mRun the following command to install 'ipykernel' into the Python environment. \n",
      "\u001b[1;31mCommand: 'c:/Users/User/AppData/Local/Programs/Python/Python39/python.exe -m pip install ipykernel -U --user --force-reinstall'"
     ]
    }
   ],
   "source": [
    "options = webdriver.ChromeOptions()\n",
    "driver = webdriver.Chrome(executable_path='chromedriver.exe', options=options)\n",
    "driver.set_window_size(1120, 1000)\n",
    "url =\"http://127.0.0.1:8000/\"\n",
    "driver.get(url)\n",
    "driver.title\n",
    "driver.get('http://127.0.0.1:8000/student/login/')\n",
    "from selenium.webdriver.common.by import By\n",
    "\n",
    "\n",
    "username_field=driver.find_element(By.XPATH,'/html/body/main/form/input[2]')\n",
    "password_field=driver.find_element(By.XPATH,'/html/body/main/form/input[3]')\n",
    "login_button=driver.find_element(By.XPATH,'/html/body/main/form/button')\n",
    "\n",
    "username_field.click()\n",
    "username_field.send_keys(\"admin\")\n",
    "password_field.click()\n",
    "password_field.send_keys(\"admin\")\n",
    "print(username_field.get_attribute('value'))\n",
    "print(password_field.get_attribute('value'))\n",
    "#time.sleep(3)\n",
    "if username_field.get_attribute('value')=='admin' and password_field.get_attribute('value')=='admin':\n",
    "    print(\"Test 1 is passed\")\n",
    "\n",
    "\n",
    "login_button.click()\n",
    "driver.close()\n"
   ]
  },
  {
   "cell_type": "code",
   "execution_count": null,
   "metadata": {},
   "outputs": [],
   "source": [
    "options = webdriver.ChromeOptions()\n",
    "driver = webdriver.Chrome(executable_path='chromedriver.exe', options=options)\n",
    "driver.set_window_size(1120, 1000)\n",
    "url =\"http://127.0.0.1:8000/\"\n",
    "driver.get(url)\n",
    "driver.title\n",
    "driver.get('http://127.0.0.1:8000/student/login/')\n",
    "from selenium.webdriver.common.by import By\n",
    "\n",
    "\n",
    "username_field=driver.find_element(By.XPATH,'/html/body/main/form/input[2]')\n",
    "password_field=driver.find_element(By.XPATH,'/html/body/main/form/input[3]')\n",
    "login_button=driver.find_element(By.XPATH,'/html/body/main/form/button')\n",
    "\n",
    "username_field.click()\n",
    "username_field.send_keys(\"admin\")\n",
    "password_field.click()\n",
    "password_field.send_keys(\"admin\")\n",
    "print(username_field.get_attribute('value'))\n",
    "print(password_field.get_attribute('value'))\n",
    "#time.sleep(3)\n",
    "if username_field.get_attribute('value')=='admin' and password_field.get_attribute('value')=='admin':\n",
    "    print(\"Test 1 is passed\")\n",
    "\n",
    "\n",
    "login_button.click()\n",
    "driver.close()\n"
   ]
  },
  {
   "cell_type": "code",
   "execution_count": null,
   "metadata": {},
   "outputs": [],
   "source": [
    "options = webdriver.ChromeOptions()\n",
    "driver = webdriver.Chrome(executable_path='chromedriver.exe', options=options)\n",
    "driver.set_window_size(1120, 1000)\n",
    "url =\"http://127.0.0.1:8000/\"\n",
    "driver.get(url)\n",
    "driver.title\n",
    "driver.get('http://127.0.0.1:8000/student/login/')\n",
    "from selenium.webdriver.common.by import By\n",
    "\n",
    "\n",
    "username_field=driver.find_element(By.XPATH,'/html/body/main/form/input[2]')\n",
    "password_field=driver.find_element(By.XPATH,'/html/body/main/form/input[3]')\n",
    "login_button=driver.find_element(By.XPATH,'/html/body/main/form/button')\n",
    "\n",
    "username_field.click()\n",
    "username_field.send_keys(\"admin\")\n",
    "password_field.click()\n",
    "password_field.send_keys(\"admin\")\n",
    "print(username_field.get_attribute('value'))\n",
    "print(password_field.get_attribute('value'))\n",
    "#time.sleep(3)\n",
    "if username_field.get_attribute('value')=='admin' and password_field.get_attribute('value')=='admin':\n",
    "    print(\"Test 1 is passed\")\n",
    "\n",
    "\n",
    "login_button.click()\n",
    "driver.close()\n"
   ]
  },
  {
   "cell_type": "code",
   "execution_count": null,
   "metadata": {},
   "outputs": [],
   "source": []
  },
  {
   "cell_type": "code",
   "execution_count": null,
   "metadata": {},
   "outputs": [],
   "source": [
    "options = webdriver.ChromeOptions()\n",
    "driver = webdriver.Chrome(executable_path='chromedriver.exe', options=options)\n",
    "driver.set_window_size(1120, 1000)\n",
    "url =\"http://127.0.0.1:8000/\"\n",
    "driver.get(url)\n",
    "driver.title\n",
    "driver.get('http://127.0.0.1:8000/student/login/')\n",
    "from selenium.webdriver.common.by import By\n",
    "\n",
    "\n",
    "username_field=driver.find_element(By.XPATH,'/html/body/main/form/input[2]')\n",
    "password_field=driver.find_element(By.XPATH,'/html/body/main/form/input[3]')\n",
    "login_button=driver.find_element(By.XPATH,'/html/body/main/form/button')\n",
    "\n",
    "username_field.click()\n",
    "username_field.send_keys(\"admin\")\n",
    "password_field.click()\n",
    "password_field.send_keys(\"admin\")\n",
    "print(username_field.get_attribute('value'))\n",
    "print(password_field.get_attribute('value'))\n",
    "#time.sleep(3)\n",
    "if username_field.get_attribute('value')=='admin' and password_field.get_attribute('value')=='admin':\n",
    "    print(\"Test 1 is passed\")\n",
    "\n",
    "\n",
    "login_button.click()\n",
    "driver.close()\n"
   ]
  },
  {
   "cell_type": "code",
   "execution_count": null,
   "metadata": {},
   "outputs": [],
   "source": [
    "options = webdriver.ChromeOptions()\n",
    "driver = webdriver.Chrome(executable_path='chromedriver.exe', options=options)\n",
    "driver.set_window_size(1120, 1000)\n",
    "url =\"http://127.0.0.1:8000/\"\n",
    "driver.get(url)\n",
    "driver.title\n",
    "driver.get('http://127.0.0.1:8000/student/login/')\n",
    "from selenium.webdriver.common.by import By\n",
    "\n",
    "\n",
    "username_field=driver.find_element(By.XPATH,'/html/body/main/form/input[2]')\n",
    "password_field=driver.find_element(By.XPATH,'/html/body/main/form/input[3]')\n",
    "login_button=driver.find_element(By.XPATH,'/html/body/main/form/button')\n",
    "\n",
    "username_field.click()\n",
    "username_field.send_keys(\"admin\")\n",
    "password_field.click()\n",
    "password_field.send_keys(\"admin\")\n",
    "print(username_field.get_attribute('value'))\n",
    "print(password_field.get_attribute('value'))\n",
    "#time.sleep(3)\n",
    "if username_field.get_attribute('value')=='admin' and password_field.get_attribute('value')=='admin':\n",
    "    print(\"Test 1 is passed\")\n",
    "\n",
    "\n",
    "login_button.click()\n",
    "driver.close()\n"
   ]
  },
  {
   "cell_type": "code",
   "execution_count": null,
   "metadata": {},
   "outputs": [],
   "source": [
    "options = webdriver.ChromeOptions()\n",
    "driver = webdriver.Chrome(executable_path='chromedriver.exe', options=options)\n",
    "driver.set_window_size(1120, 1000)\n",
    "url =\"http://127.0.0.1:8000/\"\n",
    "driver.get(url)\n",
    "driver.title\n",
    "driver.get('http://127.0.0.1:8000/student/login/')\n",
    "from selenium.webdriver.common.by import By\n",
    "\n",
    "\n",
    "username_field=driver.find_element(By.XPATH,'/html/body/main/form/input[2]')\n",
    "password_field=driver.find_element(By.XPATH,'/html/body/main/form/input[3]')\n",
    "login_button=driver.find_element(By.XPATH,'/html/body/main/form/button')\n",
    "\n",
    "username_field.click()\n",
    "username_field.send_keys(\"admin\")\n",
    "password_field.click()\n",
    "password_field.send_keys(\"admin\")\n",
    "print(username_field.get_attribute('value'))\n",
    "print(password_field.get_attribute('value'))\n",
    "#time.sleep(3)\n",
    "if username_field.get_attribute('value')=='admin' and password_field.get_attribute('value')=='admin':\n",
    "    print(\"Test 1 is passed\")\n",
    "\n",
    "\n",
    "login_button.click()\n",
    "driver.close()\n"
   ]
  },
  {
   "cell_type": "code",
   "execution_count": null,
   "metadata": {},
   "outputs": [],
   "source": [
    "options = webdriver.ChromeOptions()\n",
    "driver = webdriver.Chrome(executable_path='chromedriver.exe', options=options)\n",
    "driver.set_window_size(1120, 1000)\n",
    "url =\"http://127.0.0.1:8000/\"\n",
    "driver.get(url)\n",
    "driver.title\n",
    "driver.get('http://127.0.0.1:8000/student/login/')\n",
    "from selenium.webdriver.common.by import By\n",
    "\n",
    "\n",
    "username_field=driver.find_element(By.XPATH,'/html/body/main/form/input[2]')\n",
    "password_field=driver.find_element(By.XPATH,'/html/body/main/form/input[3]')\n",
    "login_button=driver.find_element(By.XPATH,'/html/body/main/form/button')\n",
    "\n",
    "username_field.click()\n",
    "username_field.send_keys(\"admin\")\n",
    "password_field.click()\n",
    "password_field.send_keys(\"admin\")\n",
    "print(username_field.get_attribute('value'))\n",
    "print(password_field.get_attribute('value'))\n",
    "#time.sleep(3)\n",
    "if username_field.get_attribute('value')=='admin' and password_field.get_attribute('value')=='admin':\n",
    "    print(\"Test 1 is passed\")\n",
    "\n",
    "\n",
    "login_button.click()\n",
    "driver.close()\n"
   ]
  },
  {
   "cell_type": "code",
   "execution_count": null,
   "metadata": {},
   "outputs": [],
   "source": [
    "\n"
   ]
  },
  {
   "cell_type": "code",
   "execution_count": null,
   "metadata": {},
   "outputs": [],
   "source": [
    "\n"
   ]
  },
  {
   "cell_type": "code",
   "execution_count": null,
   "metadata": {},
   "outputs": [],
   "source": [
    "options = webdriver.ChromeOptions()\n",
    "driver = webdriver.Chrome(executable_path='chromedriver.exe', options=options)\n",
    "driver.set_window_size(1120, 1000)\n",
    "url =\"http://127.0.0.1:8000/\"\n",
    "driver.get(url)\n",
    "driver.title\n",
    "driver.get('http://127.0.0.1:8000/student/login/')\n",
    "from selenium.webdriver.common.by import By\n",
    "\n",
    "\n",
    "username_field=driver.find_element(By.XPATH,'/html/body/main/form/input[2]')\n",
    "password_field=driver.find_element(By.XPATH,'/html/body/main/form/input[3]')\n",
    "login_button=driver.find_element(By.XPATH,'/html/body/main/form/button')\n",
    "\n",
    "username_field.click()\n",
    "username_field.send_keys(\"admin\")\n",
    "password_field.click()\n",
    "password_field.send_keys(\"admin\")\n",
    "print(username_field.get_attribute('value'))\n",
    "print(password_field.get_attribute('value'))\n",
    "#time.sleep(3)\n",
    "if username_field.get_attribute('value')=='admin' and password_field.get_attribute('value')=='admin':\n",
    "    print(\"Test 1 is passed\")\n",
    "\n",
    "\n",
    "login_button.click()\n",
    "driver.close()\n"
   ]
  }
 ],
 "metadata": {
  "kernelspec": {
   "display_name": "Python 3 (ipykernel)",
   "language": "python",
   "name": "python3"
  },
  "language_info": {
   "codemirror_mode": {
    "name": "ipython",
    "version": 3
   },
   "file_extension": ".py",
   "mimetype": "text/x-python",
   "name": "python",
   "nbconvert_exporter": "python",
   "pygments_lexer": "ipython3",
   "version": "3.9.6"
  },
  "vscode": {
   "interpreter": {
    "hash": "cf92aa13fedf815d5c8dd192b8d835913fde3e8bc926b2a0ad6cc74ef2ba3ca2"
   }
  }
 },
 "nbformat": 4,
 "nbformat_minor": 4
}
