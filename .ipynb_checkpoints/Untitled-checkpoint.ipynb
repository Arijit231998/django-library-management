{
 "cells": [
  {
   "cell_type": "code",
   "execution_count": 2,
   "id": "9bc542fd",
   "metadata": {},
   "outputs": [],
   "source": [
    "from selenium.common.exceptions import NoSuchElementException, ElementClickInterceptedException\n",
    "from selenium import webdriver\n",
    "PATH=\"./chromedriver.exe\"\n",
    "import time\n"
   ]
  },
  {
   "cell_type": "code",
   "execution_count": 3,
   "id": "7eec6f79",
   "metadata": {
    "scrolled": true
   },
   "outputs": [
    {
     "name": "stderr",
     "output_type": "stream",
     "text": [
      "C:\\Users\\PC\\AppData\\Local\\Temp/ipykernel_11112/4086327213.py:2: DeprecationWarning: executable_path has been deprecated, please pass in a Service object\n",
      "  driver = webdriver.Chrome(executable_path='chromedriver.exe', options=options)\n"
     ]
    },
    {
     "data": {
      "text/plain": [
       "'Library Management'"
      ]
     },
     "execution_count": 3,
     "metadata": {},
     "output_type": "execute_result"
    }
   ],
   "source": [
    "options = webdriver.ChromeOptions()\n",
    "driver = webdriver.Chrome(executable_path='chromedriver.exe', options=options)\n",
    "driver.set_window_size(1120, 1000)\n",
    "url =\"http://127.0.0.1:8000/\"\n",
    "driver.get(url)\n",
    "driver.title"
   ]
  },
  {
   "cell_type": "code",
   "execution_count": 45,
   "id": "dc9f1edf",
   "metadata": {},
   "outputs": [
    {
     "name": "stderr",
     "output_type": "stream",
     "text": [
      "C:\\Users\\PC\\AppData\\Local\\Temp/ipykernel_11848/4086327213.py:2: DeprecationWarning: executable_path has been deprecated, please pass in a Service object\n",
      "  driver = webdriver.Chrome(executable_path='chromedriver.exe', options=options)\n"
     ]
    },
    {
     "data": {
      "text/plain": [
       "'Library Management'"
      ]
     },
     "execution_count": 45,
     "metadata": {},
     "output_type": "execute_result"
    }
   ],
   "source": [
    "options = webdriver.ChromeOptions()\n",
    "driver = webdriver.Chrome(executable_path='chromedriver.exe', options=options)\n",
    "driver.set_window_size(1120, 1000)\n",
    "url =\"http://127.0.0.1:8000/\"\n",
    "driver.get(url)\n",
    "driver.title"
   ]
  },
  {
   "cell_type": "markdown",
   "id": "13cb0316-76f8-45ee-b8cd-fbd62bde2a3b",
   "metadata": {},
   "source": [
    "<b>Login Test</b>"
   ]
  },
  {
   "cell_type": "code",
   "execution_count": 4,
   "id": "172345cc-d0e2-4a74-964b-6b78496388da",
   "metadata": {},
   "outputs": [
    {
     "name": "stderr",
     "output_type": "stream",
     "text": [
      "C:\\Users\\PC\\AppData\\Local\\Temp/ipykernel_11112/2015243824.py:2: DeprecationWarning: executable_path has been deprecated, please pass in a Service object\n",
      "  driver = webdriver.Chrome(executable_path='chromedriver.exe', options=options)\n"
     ]
    },
    {
     "name": "stdout",
     "output_type": "stream",
     "text": [
      "admin\n",
      "admin\n",
      "Test 1 is passed\n"
     ]
    }
   ],
   "source": [
    "options = webdriver.ChromeOptions()\n",
    "driver = webdriver.Chrome(executable_path='chromedriver.exe', options=options)\n",
    "driver.set_window_size(1120, 1000)\n",
    "url =\"http://127.0.0.1:8000/\"\n",
    "driver.get(url)\n",
    "driver.title\n",
    "driver.get('http://127.0.0.1:8000/student/login/')\n",
    "from selenium.webdriver.common.by import By\n",
    "\n",
    "\n",
    "username_field=driver.find_element(By.XPATH,'/html/body/main/form/input[2]')\n",
    "password_field=driver.find_element(By.XPATH,'/html/body/main/form/input[3]')\n",
    "login_button=driver.find_element(By.XPATH,'/html/body/main/form/button')\n",
    "\n",
    "username_field.click()\n",
    "username_field.send_keys(\"admin\")\n",
    "password_field.click()\n",
    "password_field.send_keys(\"admin\")\n",
    "print(username_field.get_attribute('value'))\n",
    "print(password_field.get_attribute('value'))\n",
    "#time.sleep(3)\n",
    "if username_field.get_attribute('value')=='admin' and password_field.get_attribute('value')=='admin':\n",
    "    print(\"Test 1 is passed\")\n",
    "\n",
    "\n",
    "login_button.click()\n",
    "driver.close()\n"
   ]
  },
  {
   "cell_type": "code",
   "execution_count": 10,
   "id": "b1081713-19d8-499d-b597-dc36a6dfcd82",
   "metadata": {},
   "outputs": [
    {
     "name": "stdout",
     "output_type": "stream",
     "text": [
      "Signup test\n"
     ]
    }
   ],
   "source": [
    "print(\"Signup test\")\n",
    "\n",
    "\n",
    "\n",
    "\n",
    "\n",
    "\n",
    "\n",
    "\n",
    "\n"
   ]
  },
  {
   "cell_type": "code",
   "execution_count": 7,
   "id": "2781202b-0e84-4a8e-be59-04f46e24ee43",
   "metadata": {},
   "outputs": [
    {
     "name": "stderr",
     "output_type": "stream",
     "text": [
      "C:\\Users\\PC\\AppData\\Local\\Temp/ipykernel_11112/971520099.py:2: DeprecationWarning: executable_path has been deprecated, please pass in a Service object\n",
      "  driver = webdriver.Chrome(executable_path='chromedriver.exe', options=options)\n"
     ]
    },
    {
     "name": "stdout",
     "output_type": "stream",
     "text": [
      "Arijit\n",
      "Bakshi\n",
      "19201001\n",
      "12345678\n",
      "\n",
      "Test 2 is passed\n"
     ]
    }
   ],
   "source": [
    "options = webdriver.ChromeOptions()\n",
    "driver = webdriver.Chrome(executable_path='chromedriver.exe', options=options)\n",
    "driver.set_window_size(1120, 1000)\n",
    "url =\"http://127.0.0.1:8000/\"\n",
    "driver.get(url)\n",
    "driver.title\n",
    "driver.get('http://127.0.0.1:8000/student/signup/')\n",
    "from selenium.webdriver.common.by import By\n",
    "firstname_field=driver.find_element(By.XPATH,'/html/body/main/form/input[2]')\n",
    "lastname_field=driver.find_element(By.XPATH,'/html/body/main/form/input[3]')\n",
    "studentID_field=driver.find_element(By.XPATH,'//*[@id=\"studentID\"]')\n",
    "password_field=driver.find_element(By.XPATH,'/html/body/main/form/input[5]')\n",
    "department_field= driver.find_element(By.XPATH,'/html/body/main/form/select')\n",
    "Submit_button=driver.find_element(By.XPATH,'/html/body/main/form/button')\n",
    "\n",
    "firstname_field.click()\n",
    "firstname_field.send_keys(\"Arijit\")\n",
    "lastname_field.click()\n",
    "lastname_field.send_keys(\"Bakshi\")\n",
    "studentID_field.click()\n",
    "studentID_field.send_keys(\"19201001\")\n",
    "password_field.click()\n",
    "password_field.send_keys(\"12345678\")\n",
    "department_field.click()\n",
    "department_field.send_keys(\"CSE\")\n",
    "print(firstname_field.get_attribute('value'))\n",
    "print(lastname_field.get_attribute('value'))\n",
    "print(studentID_field.get_attribute('value'))\n",
    "print(password_field.get_attribute('value'))\n",
    "print(department_field.get_attribute('value'))\n",
    "time.sleep(3)\n",
    "\n",
    "if firstname_field.get_attribute('value')=='Arijit'and lastname_field.get_attribute('value')=='Bakshi'and studentID_field.get_attribute('value')=='19201001'and password_field.get_attribute('value')=='12345678':\n",
    "     print(\"Test 2 is passed\")\n",
    "        \n",
    "Submit_button.click()\n",
    "driver.close()\n",
    "\n",
    "\n",
    "                                    "
   ]
  },
  {
   "cell_type": "code",
   "execution_count": 5,
   "id": "e87995d7-5c11-44cb-b6b4-ad63237ab1e4",
   "metadata": {},
   "outputs": [
    {
     "name": "stdout",
     "output_type": "stream",
     "text": [
      "admin page test\n"
     ]
    }
   ],
   "source": [
    "print(\"admin page test\")\n",
    "\n"
   ]
  },
  {
   "cell_type": "code",
   "execution_count": 4,
   "id": "9901d3d1-fb9f-40d6-aa89-6b24ed64a2d6",
   "metadata": {},
   "outputs": [
    {
     "name": "stderr",
     "output_type": "stream",
     "text": [
      "C:\\Users\\PC\\AppData\\Local\\Temp/ipykernel_11848/3305788622.py:2: DeprecationWarning: executable_path has been deprecated, please pass in a Service object\n",
      "  driver = webdriver.Chrome(executable_path='chromedriver.exe', options=options)\n"
     ]
    },
    {
     "name": "stdout",
     "output_type": "stream",
     "text": [
      "admin\n",
      "admin\n",
      "Test 3 is passed\n"
     ]
    }
   ],
   "source": [
    "options = webdriver.ChromeOptions()\n",
    "driver = webdriver.Chrome(executable_path='chromedriver.exe', options=options)\n",
    "driver.set_window_size(1120, 1000)\n",
    "url =\"http://127.0.0.1:8000/\"\n",
    "driver.get(url)\n",
    "driver.title\n",
    "driver.get('http://127.0.0.1:8000/admin/login/?next=/admin/')\n",
    "from selenium.webdriver.common.by import By\n",
    "Username_field=driver.find_element(By.XPATH,'//*[@id=\"id_username\"]')\n",
    "Password_field=driver.find_element(By.XPATH,'//*[@id=\"id_password\"]')\n",
    "Login_button=driver.find_element(By.XPATH,'//*[@id=\"login-form\"]/div[3]/input')\n",
    "Username_field.click()\n",
    "Username_field.send_keys(\"admin\")\n",
    "Password_field.click()\n",
    "Password_field.send_keys(\"admin\")\n",
    "print(Username_field.get_attribute('value'))\n",
    "print(Password_field.get_attribute('value'))\n",
    "time.sleep(3)\n",
    "if Username_field.get_attribute('value')=='admin' and Password_field.get_attribute('value')=='admin':\n",
    "    print(\"Test 3 is passed\")\n",
    "Login_button.click()\n",
    "driver.close()\n",
    "\n",
    "\n"
   ]
  },
  {
   "cell_type": "code",
   "execution_count": 6,
   "id": "64644813-f6e1-4a63-b1d9-b86432583e9b",
   "metadata": {},
   "outputs": [
    {
     "name": "stdout",
     "output_type": "stream",
     "text": [
      "navbar test\n"
     ]
    }
   ],
   "source": [
    "print(\"navbar test\")"
   ]
  },
  {
   "cell_type": "code",
   "execution_count": 15,
   "id": "248f0a20-fa5e-4895-afd8-c5f1b1d70aea",
   "metadata": {},
   "outputs": [
    {
     "ename": "SyntaxError",
     "evalue": "cannot assign to comparison (Temp/ipykernel_11112/142349988.py, line 8)",
     "output_type": "error",
     "traceback": [
      "\u001b[1;36m  File \u001b[1;32m\"C:\\Users\\PC\\AppData\\Local\\Temp/ipykernel_11112/142349988.py\"\u001b[1;36m, line \u001b[1;32m8\u001b[0m\n\u001b[1;33m    List<WebElement> allLinks = driver.findElements(By.tagName(\"a\"));\u001b[0m\n\u001b[1;37m    ^\u001b[0m\n\u001b[1;31mSyntaxError\u001b[0m\u001b[1;31m:\u001b[0m cannot assign to comparison\n"
     ]
    }
   ],
   "source": [
    "\n",
    "  \n",
    "driver = webdriver.Chrome(executable_path='chromedriver.exe', options=options)\n",
    "driver.set_window_size(1120, 1000)\n",
    "url =\"http://127.0.0.1:8000/\"\n",
    "driver.get(url)\n",
    "driver.title\n",
    "driver.get('http://127.0.0.1:8000/')\n",
    "from selenium.webdriver.common.by import By\n",
    "List<WebElement> allLinks = driver.findElements(By.tagName(\"a\"));\n",
    "\n",
    "    for (WebElement w : allLinks)\n",
    "    {\n",
    "\n",
    "        w.click();\n",
    "        if (driver.findElement(By.xpath(\"Element on the page\")).isDisplayed())\n",
    "        {\n",
    "            System.out.println(\"Link:\"+w.getText()+\"is working\");\n",
    "        }\n",
    "        else\n",
    "        {\n",
    "            System.out.println(\"Link:\"+w.getText()+\"is not working\");\n",
    "        }\n",
    "        driver.navigate().back();//To come back to the Home screen\n",
    "\n",
    "    }\n",
    "\n",
    "\n",
    "    \n",
    "    \n",
    "    \n",
    "    \n",
    "    \n",
    "    \n"
   ]
  },
  {
   "cell_type": "code",
   "execution_count": 11,
   "id": "b2e519bb-ee1d-47b3-b675-44cb2b05e803",
   "metadata": {},
   "outputs": [
    {
     "ename": "SyntaxError",
     "evalue": "invalid syntax (Temp/ipykernel_11112/2869968690.py, line 1)",
     "output_type": "error",
     "traceback": [
      "\u001b[1;36m  File \u001b[1;32m\"C:\\Users\\PC\\AppData\\Local\\Temp/ipykernel_11112/2869968690.py\"\u001b[1;36m, line \u001b[1;32m1\u001b[0m\n\u001b[1;33m    def  search_box( bool True):\u001b[0m\n\u001b[1;37m                          ^\u001b[0m\n\u001b[1;31mSyntaxError\u001b[0m\u001b[1;31m:\u001b[0m invalid syntax\n"
     ]
    }
   ],
   "source": [
    "def  search_box( bool True):\n",
    "    \n",
    "    options = webdriver.ChromeOptions()\n",
    "driver = webdriver.Chrome(executable_path='chromedriver.exe', options=options)\n",
    "driver.set_window_size(1120, 1000)\n",
    "url =\"http://127.0.0.1:8000/\"\n",
    "driver.get(url)\n",
    "driver.title\n",
    "driver.get('http://127.0.0.1:8000/')\n",
    "from selenium.webdriver.common.by import By\n",
    "search_box_field=driver.find_element(By.XPATH,'//*[@id=\"search\"]')\n",
    "search_box.is_displayed()\n",
    "search_box.is_enabled()"
   ]
  },
  {
   "cell_type": "code",
   "execution_count": 86,
   "id": "e49c709b-d7b4-4991-b9e8-3e7d4ed73e32",
   "metadata": {},
   "outputs": [
    {
     "name": "stderr",
     "output_type": "stream",
     "text": [
      "C:\\Users\\PC\\AppData\\Local\\Temp/ipykernel_11848/706835124.py:2: DeprecationWarning: executable_path has been deprecated, please pass in a Service object\n",
      "  driver = webdriver.Chrome(executable_path='chromedriver.exe', options=options)\n"
     ]
    },
    {
     "ename": "NoSuchWindowException",
     "evalue": "Message: no such window: target window already closed\nfrom unknown error: web view not found\n  (Session info: chrome=106.0.5249.119)\nStacktrace:\nBacktrace:\n\tOrdinal0 [0x00FF1ED3+2236115]\n\tOrdinal0 [0x00F892F1+1807089]\n\tOrdinal0 [0x00E966FD+812797]\n\tOrdinal0 [0x00E7DFFA+712698]\n\tOrdinal0 [0x00EE506B+1134699]\n\tOrdinal0 [0x00EF514A+1200458]\n\tOrdinal0 [0x00EE18A6+1120422]\n\tOrdinal0 [0x00EBA73D+960317]\n\tOrdinal0 [0x00EBB71F+964383]\n\tGetHandleVerifier [0x0129E7E2+2743074]\n\tGetHandleVerifier [0x012908D4+2685972]\n\tGetHandleVerifier [0x01082BAA+532202]\n\tGetHandleVerifier [0x01081990+527568]\n\tOrdinal0 [0x00F9080C+1837068]\n\tOrdinal0 [0x00F94CD8+1854680]\n\tOrdinal0 [0x00F94DC5+1854917]\n\tOrdinal0 [0x00F9ED64+1895780]\n\tBaseThreadInitThunk [0x7583FA29+25]\n\tRtlGetAppContainerNamedObjectPath [0x77537BBE+286]\n\tRtlGetAppContainerNamedObjectPath [0x77537B8E+238]\n",
     "output_type": "error",
     "traceback": [
      "\u001b[1;31m---------------------------------------------------------------------------\u001b[0m",
      "\u001b[1;31mNoSuchWindowException\u001b[0m                     Traceback (most recent call last)",
      "\u001b[1;32m~\\AppData\\Local\\Temp/ipykernel_11848/706835124.py\u001b[0m in \u001b[0;36m<module>\u001b[1;34m\u001b[0m\n\u001b[0;32m      9\u001b[0m \u001b[1;33m\u001b[0m\u001b[0m\n\u001b[0;32m     10\u001b[0m \u001b[1;32mtry\u001b[0m\u001b[1;33m:\u001b[0m\u001b[1;33m\u001b[0m\u001b[1;33m\u001b[0m\u001b[0m\n\u001b[1;32m---> 11\u001b[1;33m   \u001b[0mdriver\u001b[0m\u001b[1;33m.\u001b[0m\u001b[0mfind_element\u001b[0m\u001b[1;33m(\u001b[0m\u001b[0mBy\u001b[0m\u001b[1;33m.\u001b[0m\u001b[0mXPATH\u001b[0m\u001b[1;33m,\u001b[0m\u001b[1;34m'/html/body'\u001b[0m\u001b[1;33m)\u001b[0m\u001b[1;33m\u001b[0m\u001b[1;33m\u001b[0m\u001b[0m\n\u001b[0m\u001b[0;32m     12\u001b[0m \u001b[1;32mexcept\u001b[0m \u001b[0mNoSuchElementException\u001b[0m\u001b[1;33m:\u001b[0m\u001b[1;33m\u001b[0m\u001b[1;33m\u001b[0m\u001b[0m\n\u001b[0;32m     13\u001b[0m        \u001b[0mprint\u001b[0m\u001b[1;33m(\u001b[0m\u001b[1;34m\"Cant'\\t Find Element!!\"\u001b[0m\u001b[1;33m)\u001b[0m\u001b[1;33m\u001b[0m\u001b[1;33m\u001b[0m\u001b[0m\n",
      "\u001b[1;32mH:\\anaconda\\lib\\site-packages\\selenium\\webdriver\\remote\\webdriver.py\u001b[0m in \u001b[0;36mfind_element\u001b[1;34m(self, by, value)\u001b[0m\n\u001b[0;32m    854\u001b[0m             \u001b[0mvalue\u001b[0m \u001b[1;33m=\u001b[0m \u001b[1;34m'[name=\"%s\"]'\u001b[0m \u001b[1;33m%\u001b[0m \u001b[0mvalue\u001b[0m\u001b[1;33m\u001b[0m\u001b[1;33m\u001b[0m\u001b[0m\n\u001b[0;32m    855\u001b[0m \u001b[1;33m\u001b[0m\u001b[0m\n\u001b[1;32m--> 856\u001b[1;33m         return self.execute(Command.FIND_ELEMENT, {\n\u001b[0m\u001b[0;32m    857\u001b[0m             \u001b[1;34m'using'\u001b[0m\u001b[1;33m:\u001b[0m \u001b[0mby\u001b[0m\u001b[1;33m,\u001b[0m\u001b[1;33m\u001b[0m\u001b[1;33m\u001b[0m\u001b[0m\n\u001b[0;32m    858\u001b[0m             'value': value})['value']\n",
      "\u001b[1;32mH:\\anaconda\\lib\\site-packages\\selenium\\webdriver\\remote\\webdriver.py\u001b[0m in \u001b[0;36mexecute\u001b[1;34m(self, driver_command, params)\u001b[0m\n\u001b[0;32m    427\u001b[0m         \u001b[0mresponse\u001b[0m \u001b[1;33m=\u001b[0m \u001b[0mself\u001b[0m\u001b[1;33m.\u001b[0m\u001b[0mcommand_executor\u001b[0m\u001b[1;33m.\u001b[0m\u001b[0mexecute\u001b[0m\u001b[1;33m(\u001b[0m\u001b[0mdriver_command\u001b[0m\u001b[1;33m,\u001b[0m \u001b[0mparams\u001b[0m\u001b[1;33m)\u001b[0m\u001b[1;33m\u001b[0m\u001b[1;33m\u001b[0m\u001b[0m\n\u001b[0;32m    428\u001b[0m         \u001b[1;32mif\u001b[0m \u001b[0mresponse\u001b[0m\u001b[1;33m:\u001b[0m\u001b[1;33m\u001b[0m\u001b[1;33m\u001b[0m\u001b[0m\n\u001b[1;32m--> 429\u001b[1;33m             \u001b[0mself\u001b[0m\u001b[1;33m.\u001b[0m\u001b[0merror_handler\u001b[0m\u001b[1;33m.\u001b[0m\u001b[0mcheck_response\u001b[0m\u001b[1;33m(\u001b[0m\u001b[0mresponse\u001b[0m\u001b[1;33m)\u001b[0m\u001b[1;33m\u001b[0m\u001b[1;33m\u001b[0m\u001b[0m\n\u001b[0m\u001b[0;32m    430\u001b[0m             response['value'] = self._unwrap_value(\n\u001b[0;32m    431\u001b[0m                 response.get('value', None))\n",
      "\u001b[1;32mH:\\anaconda\\lib\\site-packages\\selenium\\webdriver\\remote\\errorhandler.py\u001b[0m in \u001b[0;36mcheck_response\u001b[1;34m(self, response)\u001b[0m\n\u001b[0;32m    241\u001b[0m                 \u001b[0malert_text\u001b[0m \u001b[1;33m=\u001b[0m \u001b[0mvalue\u001b[0m\u001b[1;33m[\u001b[0m\u001b[1;34m'alert'\u001b[0m\u001b[1;33m]\u001b[0m\u001b[1;33m.\u001b[0m\u001b[0mget\u001b[0m\u001b[1;33m(\u001b[0m\u001b[1;34m'text'\u001b[0m\u001b[1;33m)\u001b[0m\u001b[1;33m\u001b[0m\u001b[1;33m\u001b[0m\u001b[0m\n\u001b[0;32m    242\u001b[0m             \u001b[1;32mraise\u001b[0m \u001b[0mexception_class\u001b[0m\u001b[1;33m(\u001b[0m\u001b[0mmessage\u001b[0m\u001b[1;33m,\u001b[0m \u001b[0mscreen\u001b[0m\u001b[1;33m,\u001b[0m \u001b[0mstacktrace\u001b[0m\u001b[1;33m,\u001b[0m \u001b[0malert_text\u001b[0m\u001b[1;33m)\u001b[0m  \u001b[1;31m# type: ignore[call-arg]  # mypy is not smart enough here\u001b[0m\u001b[1;33m\u001b[0m\u001b[1;33m\u001b[0m\u001b[0m\n\u001b[1;32m--> 243\u001b[1;33m         \u001b[1;32mraise\u001b[0m \u001b[0mexception_class\u001b[0m\u001b[1;33m(\u001b[0m\u001b[0mmessage\u001b[0m\u001b[1;33m,\u001b[0m \u001b[0mscreen\u001b[0m\u001b[1;33m,\u001b[0m \u001b[0mstacktrace\u001b[0m\u001b[1;33m)\u001b[0m\u001b[1;33m\u001b[0m\u001b[1;33m\u001b[0m\u001b[0m\n\u001b[0m",
      "\u001b[1;31mNoSuchWindowException\u001b[0m: Message: no such window: target window already closed\nfrom unknown error: web view not found\n  (Session info: chrome=106.0.5249.119)\nStacktrace:\nBacktrace:\n\tOrdinal0 [0x00FF1ED3+2236115]\n\tOrdinal0 [0x00F892F1+1807089]\n\tOrdinal0 [0x00E966FD+812797]\n\tOrdinal0 [0x00E7DFFA+712698]\n\tOrdinal0 [0x00EE506B+1134699]\n\tOrdinal0 [0x00EF514A+1200458]\n\tOrdinal0 [0x00EE18A6+1120422]\n\tOrdinal0 [0x00EBA73D+960317]\n\tOrdinal0 [0x00EBB71F+964383]\n\tGetHandleVerifier [0x0129E7E2+2743074]\n\tGetHandleVerifier [0x012908D4+2685972]\n\tGetHandleVerifier [0x01082BAA+532202]\n\tGetHandleVerifier [0x01081990+527568]\n\tOrdinal0 [0x00F9080C+1837068]\n\tOrdinal0 [0x00F94CD8+1854680]\n\tOrdinal0 [0x00F94DC5+1854917]\n\tOrdinal0 [0x00F9ED64+1895780]\n\tBaseThreadInitThunk [0x7583FA29+25]\n\tRtlGetAppContainerNamedObjectPath [0x77537BBE+286]\n\tRtlGetAppContainerNamedObjectPath [0x77537B8E+238]\n"
     ]
    }
   ],
   "source": [
    "\n",
    " options = webdriver.ChromeOptions()\n",
    "driver = webdriver.Chrome(executable_path='chromedriver.exe', options=options)\n",
    "driver.set_window_size(1120, 1000)\n",
    "url =\"http://127.0.0.1:8000/\"\n",
    "driver.get(url)\n",
    "driver.title\n",
    "driver.get('http://127.0.0.1:8000/admin/login/?next=/admin/')\n",
    "time.sleep(3)\n",
    "\n",
    "try:\n",
    "   driver.find_element(By.XPATH,'/html/body')\n",
    "except NoSuchElementException:\n",
    "        print(\"Cant'\\t Find Element!!\")\n",
    "\n",
    "time.sleep(3)"
   ]
  },
  {
   "cell_type": "code",
   "execution_count": 92,
   "id": "b2f62370-edef-44cf-a0f4-a2e44d6e6e03",
   "metadata": {},
   "outputs": [
    {
     "ename": "SyntaxError",
     "evalue": "invalid syntax (Temp/ipykernel_11848/3157776901.py, line 6)",
     "output_type": "error",
     "traceback": [
      "\u001b[1;36m  File \u001b[1;32m\"C:\\Users\\PC\\AppData\\Local\\Temp/ipykernel_11848/3157776901.py\"\u001b[1;36m, line \u001b[1;32m6\u001b[0m\n\u001b[1;33m    import timeoptions = driver.ChromeOptions()\u001b[0m\n\u001b[1;37m                       ^\u001b[0m\n\u001b[1;31mSyntaxError\u001b[0m\u001b[1;31m:\u001b[0m invalid syntax\n"
     ]
    }
   ],
   "source": [
    "from selenium import webdriver\n",
    "from selenium.webdriver.support import expected_conditions as EC\n",
    "from selenium.webdriver.support.ui import WebDriverWait, Select\n",
    "from selenium.webdriver.common.by import By\n",
    "from selenium.common.exceptions import TimeoutException, NoSuchElementException\n",
    "import time\n",
    "driver = webdriver.Chrome(executable_path='chromedriver.exe', options=options)\n",
    "driver.set_window_size(1120, 1000)\n",
    "url =\"http://127.0.0.1:8000/\"\n",
    "driver.get(url)\n",
    "driver.title\n",
    "driver.get('http://127.0.0.1:8000/')\n",
    "time.sleep(3)\n",
    "try:\n",
    " driver.find_element(By.XPATH,'/html/body')\n",
    "except NoSuchElementException:\n",
    "        print(\"Cant'\\t Find Element!!\")\n",
    "\n",
    "time.sleep(3)"
   ]
  },
  {
   "cell_type": "code",
   "execution_count": null,
   "id": "bf071703-4f77-4b92-84db-812b7046c0a6",
   "metadata": {},
   "outputs": [],
   "source": []
  }
 ],
 "metadata": {
  "kernelspec": {
   "display_name": "Python 3 (ipykernel)",
   "language": "python",
   "name": "python3"
  },
  "language_info": {
   "codemirror_mode": {
    "name": "ipython",
    "version": 3
   },
   "file_extension": ".py",
   "mimetype": "text/x-python",
   "name": "python",
   "nbconvert_exporter": "python",
   "pygments_lexer": "ipython3",
   "version": "3.9.7"
  },
  "vscode": {
   "interpreter": {
    "hash": "cf92aa13fedf815d5c8dd192b8d835913fde3e8bc926b2a0ad6cc74ef2ba3ca2"
   }
  }
 },
 "nbformat": 4,
 "nbformat_minor": 5
}
