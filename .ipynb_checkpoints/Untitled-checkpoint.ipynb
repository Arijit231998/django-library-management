{
 "cells": [
  {
   "cell_type": "code",
   "execution_count": 1,
   "id": "9bc542fd",
   "metadata": {},
   "outputs": [],
   "source": [
    "from selenium.common.exceptions import NoSuchElementException, ElementClickInterceptedException\n",
    "from selenium import webdriver\n",
    "PATH=\"./chromedriver.exe\"\n",
    "import time\n"
   ]
  },
  {
   "cell_type": "code",
   "execution_count": 2,
   "id": "7eec6f79",
   "metadata": {
    "scrolled": true
   },
   "outputs": [
    {
     "name": "stderr",
     "output_type": "stream",
     "text": [
      "C:\\Users\\PC\\AppData\\Local\\Temp/ipykernel_2892/4086327213.py:2: DeprecationWarning: executable_path has been deprecated, please pass in a Service object\n",
      "  driver = webdriver.Chrome(executable_path='chromedriver.exe', options=options)\n"
     ]
    },
    {
     "data": {
      "text/plain": [
       "'Library Management'"
      ]
     },
     "execution_count": 2,
     "metadata": {},
     "output_type": "execute_result"
    }
   ],
   "source": [
    "options = webdriver.ChromeOptions()\n",
    "driver = webdriver.Chrome(executable_path='chromedriver.exe', options=options)\n",
    "driver.set_window_size(1120, 1000)\n",
    "url =\"http://127.0.0.1:8000/\"\n",
    "driver.get(url)\n",
    "driver.title"
   ]
  },
  {
   "cell_type": "code",
   "execution_count": 35,
   "id": "dc9f1edf",
   "metadata": {},
   "outputs": [
    {
     "name": "stderr",
     "output_type": "stream",
     "text": [
      "C:\\Users\\PC\\AppData\\Local\\Temp/ipykernel_2892/4086327213.py:2: DeprecationWarning: executable_path has been deprecated, please pass in a Service object\n",
      "  driver = webdriver.Chrome(executable_path='chromedriver.exe', options=options)\n"
     ]
    },
    {
     "data": {
      "text/plain": [
       "'Library Management'"
      ]
     },
     "execution_count": 35,
     "metadata": {},
     "output_type": "execute_result"
    }
   ],
   "source": [
    "options = webdriver.ChromeOptions()\n",
    "driver = webdriver.Chrome(executable_path='chromedriver.exe', options=options)\n",
    "driver.set_window_size(1120, 1000)\n",
    "url =\"http://127.0.0.1:8000/\"\n",
    "driver.get(url)\n",
    "driver.title"
   ]
  },
  {
   "cell_type": "markdown",
   "id": "13cb0316-76f8-45ee-b8cd-fbd62bde2a3b",
   "metadata": {},
   "source": [
    "<b>Login Test</b>"
   ]
  },
  {
   "cell_type": "code",
   "execution_count": 38,
   "id": "172345cc-d0e2-4a74-964b-6b78496388da",
   "metadata": {},
   "outputs": [
    {
     "name": "stderr",
     "output_type": "stream",
     "text": [
      "C:\\Users\\PC\\AppData\\Local\\Temp/ipykernel_2892/2213272845.py:2: DeprecationWarning: executable_path has been deprecated, please pass in a Service object\n",
      "  driver = webdriver.Chrome(executable_path='chromedriver.exe', options=options)\n"
     ]
    },
    {
     "name": "stdout",
     "output_type": "stream",
     "text": [
      "admin\n",
      "admin\n",
      "Test 1 is passed\n"
     ]
    }
   ],
   "source": [
    "options = webdriver.ChromeOptions()\n",
    "driver = webdriver.Chrome(executable_path='chromedriver.exe', options=options)\n",
    "driver.set_window_size(1120, 1000)\n",
    "url =\"http://127.0.0.1:8000/\"\n",
    "driver.get(url)\n",
    "driver.title\n",
    "driver.get('http://127.0.0.1:8000/student/login/')\n",
    "from selenium.webdriver.common.by import By\n",
    "\n",
    "\n",
    "username_field=driver.find_element(By.XPATH,'/html/body/main/form/input[2]')\n",
    "password_field=driver.find_element(By.XPATH,'/html/body/main/form/input[3]')\n",
    "login_button=driver.find_element(By.XPATH,'/html/body/main/form/button')\n",
    "\n",
    "username_field.click()\n",
    "username_field.send_keys(\"admin\")\n",
    "password_field.click()\n",
    "password_field.send_keys(\"admin\")\n",
    "print(username_field.get_attribute('value'))\n",
    "print(password_field.get_attribute('value'))\n",
    "#time.sleep(3)\n",
    "if username_field.get_attribute('value')=='admin' and password_field.get_attribute('value')=='admin':\n",
    "    print(\"Test 1 is passed\")\n",
    "\n",
    "\n",
    "login_button.click()\n",
    "driver.close()\n"
   ]
  },
  {
   "cell_type": "code",
   "execution_count": 41,
   "id": "b1081713-19d8-499d-b597-dc36a6dfcd82",
   "metadata": {},
   "outputs": [
    {
     "name": "stdout",
     "output_type": "stream",
     "text": [
      "Signup test\n"
     ]
    }
   ],
   "source": [
    "print(\"Signup test\")\n",
    "\n",
    "\n",
    "\n",
    "\n",
    "\n",
    "\n",
    "\n",
    "\n",
    "\n"
   ]
  },
  {
   "cell_type": "code",
   "execution_count": 42,
   "id": "2781202b-0e84-4a8e-be59-04f46e24ee43",
   "metadata": {},
   "outputs": [
    {
     "name": "stderr",
     "output_type": "stream",
     "text": [
      "C:\\Users\\PC\\AppData\\Local\\Temp/ipykernel_2892/3925832100.py:2: DeprecationWarning: executable_path has been deprecated, please pass in a Service object\n",
      "  driver = webdriver.Chrome(executable_path='chromedriver.exe', options=options)\n"
     ]
    },
    {
     "name": "stdout",
     "output_type": "stream",
     "text": [
      "Arijit\n",
      "Bakshi\n",
      "19201001\n",
      "12345678\n"
     ]
    }
   ],
   "source": [
    "options = webdriver.ChromeOptions()\n",
    "driver = webdriver.Chrome(executable_path='chromedriver.exe', options=options)\n",
    "driver.set_window_size(1120, 1000)\n",
    "url =\"http://127.0.0.1:8000/\"\n",
    "driver.get(url)\n",
    "driver.title\n",
    "driver.get('http://127.0.0.1:8000/student/signup/')\n",
    "from selenium.webdriver.common.by import By\n",
    "firstname_field=driver.find_element(By.XPATH,'/html/body/main/form/input[2]')\n",
    "lastname_field=driver.find_element(By.XPATH,'/html/body/main/form/input[3]')\n",
    "studentID_field=driver.find_element(By.XPATH,'//*[@id=\"studentID\"]')\n",
    "password_field=driver.find_element(By.XPATH,'/html/body/main/form/input[5]')\n",
    "Department_field= driver.find_element(By.XPATH,'/html/body/main/form/select')\n",
    "\n",
    "firstname_field.click()\n",
    "firstname_field.send_keys(\"Arijit\")\n",
    "lastname_field.click()\n",
    "lastname_field.send_keys(\"Bakshi\")\n",
    "studentID_field.click()\n",
    "studentID_field.send_keys(\"19201001\")\n",
    "password_field.click()\n",
    "password_field.send_keys(\"12345678\")\n",
    "Department_field.click()\n",
    "Department_field.send_keys(\"CSE\")\n",
    "print(firstname_field.get_attribute('value'))\n",
    "print(lastname_field.get_attribute('value'))\n",
    "print(studentID_field.get_attribute('value'))\n",
    "print(password_field.get_attribute('value'))\n",
    "time.sleep(3)\n",
    "\n",
    "\n",
    "                                    "
   ]
  },
  {
   "cell_type": "code",
   "execution_count": null,
   "id": "e87995d7-5c11-44cb-b6b4-ad63237ab1e4",
   "metadata": {},
   "outputs": [],
   "source": []
  }
 ],
 "metadata": {
  "kernelspec": {
   "display_name": "Python 3 (ipykernel)",
   "language": "python",
   "name": "python3"
  },
  "language_info": {
   "codemirror_mode": {
    "name": "ipython",
    "version": 3
   },
   "file_extension": ".py",
   "mimetype": "text/x-python",
   "name": "python",
   "nbconvert_exporter": "python",
   "pygments_lexer": "ipython3",
   "version": "3.9.7"
  }
 },
 "nbformat": 4,
 "nbformat_minor": 5
}
