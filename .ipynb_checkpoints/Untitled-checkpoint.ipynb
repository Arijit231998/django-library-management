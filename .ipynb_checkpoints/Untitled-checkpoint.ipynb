{
 "cells": [
  {
   "cell_type": "code",
   "execution_count": 2,
   "id": "9bc542fd",
   "metadata": {},
   "outputs": [],
   "source": [
    "from selenium.common.exceptions import NoSuchElementException, ElementClickInterceptedException\n",
    "from selenium import webdriver\n",
    "PATH=\"./chromedriver.exe\"\n",
    "import time\n"
   ]
  },
  {
   "cell_type": "code",
   "execution_count": 8,
   "id": "7eec6f79",
   "metadata": {
    "scrolled": true
   },
   "outputs": [
    {
     "name": "stderr",
     "output_type": "stream",
     "text": [
      "C:\\Users\\PC\\AppData\\Local\\Temp/ipykernel_4604/3803249051.py:2: DeprecationWarning: executable_path has been deprecated, please pass in a Service object\n",
      "  driver = webdriver.Chrome(executable_path='chromedriver.exe', options=options)\n"
     ]
    },
    {
     "name": "stdout",
     "output_type": "stream",
     "text": [
      "Library Management\n"
     ]
    }
   ],
   "source": [
    "options = webdriver.ChromeOptions()\n",
    "driver = webdriver.Chrome(executable_path='chromedriver.exe', options=options)\n",
    "driver.set_window_size(1120, 1000)\n",
    "url =\"http://127.0.0.1:8000/\"\n",
    "driver.get(url)\n",
    "print(driver.title)\n",
    "driver.close()"
   ]
  },
  {
   "cell_type": "code",
   "execution_count": 45,
   "id": "dc9f1edf",
   "metadata": {},
   "outputs": [
    {
     "name": "stderr",
     "output_type": "stream",
     "text": [
      "C:\\Users\\PC\\AppData\\Local\\Temp/ipykernel_11848/4086327213.py:2: DeprecationWarning: executable_path has been deprecated, please pass in a Service object\n",
      "  driver = webdriver.Chrome(executable_path='chromedriver.exe', options=options)\n"
     ]
    },
    {
     "data": {
      "text/plain": [
       "'Library Management'"
      ]
     },
     "execution_count": 45,
     "metadata": {},
     "output_type": "execute_result"
    }
   ],
   "source": [
    "options = webdriver.ChromeOptions()\n",
    "driver = webdriver.Chrome(executable_path='chromedriver.exe', options=options)\n",
    "driver.set_window_size(1120, 1000)\n",
    "url =\"http://127.0.0.1:8000/\"\n",
    "driver.get(url) \n",
    "driver.title"
   ]
  },
  {
   "cell_type": "markdown",
   "id": "13cb0316-76f8-45ee-b8cd-fbd62bde2a3b",
   "metadata": {},
   "source": [
    "<b>Login Test</b>"
   ]
  },
  {
   "cell_type": "code",
   "execution_count": 4,
   "id": "172345cc-d0e2-4a74-964b-6b78496388da",
   "metadata": {},
   "outputs": [
    {
     "name": "stderr",
     "output_type": "stream",
     "text": [
      "C:\\Users\\PC\\AppData\\Local\\Temp/ipykernel_4604/2015243824.py:2: DeprecationWarning: executable_path has been deprecated, please pass in a Service object\n",
      "  driver = webdriver.Chrome(executable_path='chromedriver.exe', options=options)\n"
     ]
    },
    {
     "name": "stdout",
     "output_type": "stream",
     "text": [
      "admin\n",
      "admin\n",
      "Test 1 is passed\n"
     ]
    }
   ],
   "source": [
    "options = webdriver.ChromeOptions()\n",
    "driver = webdriver.Chrome(executable_path='chromedriver.exe', options=options)\n",
    "driver.set_window_size(1120, 1000)\n",
    "url =\"http://127.0.0.1:8000/\"\n",
    "driver.get(url)\n",
    "driver.title\n",
    "driver.get('http://127.0.0.1:8000/student/login/')\n",
    "from selenium.webdriver.common.by import By\n",
    "\n",
    "\n",
    "username_field=driver.find_element(By.XPATH,'/html/body/main/form/input[2]')\n",
    "password_field=driver.find_element(By.XPATH,'/html/body/main/form/input[3]')\n",
    "login_button=driver.find_element(By.XPATH,'/html/body/main/form/button')\n",
    "\n",
    "username_field.click()\n",
    "username_field.send_keys(\"admin\")\n",
    "password_field.click()\n",
    "password_field.send_keys(\"admin\")\n",
    "print(username_field.get_attribute('value'))\n",
    "print(password_field.get_attribute('value'))\n",
    "#time.sleep(3)\n",
    "if username_field.get_attribute('value')=='admin' and password_field.get_attribute('value')=='admin':\n",
    "    print(\"Test 1 is passed\")\n",
    "\n",
    "\n",
    "login_button.click()\n",
    "driver.close()\n"
   ]
  },
  {
   "cell_type": "code",
   "execution_count": 10,
   "id": "b1081713-19d8-499d-b597-dc36a6dfcd82",
   "metadata": {},
   "outputs": [
    {
     "name": "stdout",
     "output_type": "stream",
     "text": [
      "Signup test\n"
     ]
    }
   ],
   "source": [
    "print(\"Signup test\")\n",
    "\n",
    "\n",
    "\n",
    "\n",
    "\n",
    "\n",
    "\n",
    "\n",
    "\n"
   ]
  },
  {
   "cell_type": "code",
   "execution_count": 7,
   "id": "2781202b-0e84-4a8e-be59-04f46e24ee43",
   "metadata": {},
   "outputs": [
    {
     "name": "stderr",
     "output_type": "stream",
     "text": [
      "C:\\Users\\PC\\AppData\\Local\\Temp/ipykernel_11112/971520099.py:2: DeprecationWarning: executable_path has been deprecated, please pass in a Service object\n",
      "  driver = webdriver.Chrome(executable_path='chromedriver.exe', options=options)\n"
     ]
    },
    {
     "name": "stdout",
     "output_type": "stream",
     "text": [
      "Arijit\n",
      "Bakshi\n",
      "19201001\n",
      "12345678\n",
      "\n",
      "Test 2 is passed\n"
     ]
    }
   ],
   "source": [
    "options = webdriver.ChromeOptions()\n",
    "driver = webdriver.Chrome(executable_path='chromedriver.exe', options=options)\n",
    "driver.set_window_size(1120, 1000)\n",
    "url =\"http://127.0.0.1:8000/\"\n",
    "driver.get(url)\n",
    "driver.title\n",
    "driver.get('http://127.0.0.1:8000/student/signup/')\n",
    "from selenium.webdriver.common.by import By\n",
    "firstname_field=driver.find_element(By.XPATH,'/html/body/main/form/input[2]')\n",
    "lastname_field=driver.find_element(By.XPATH,'/html/body/main/form/input[3]')\n",
    "studentID_field=driver.find_element(By.XPATH,'//*[@id=\"studentID\"]')\n",
    "password_field=driver.find_element(By.XPATH,'/html/body/main/form/input[5]')\n",
    "department_field= driver.find_element(By.XPATH,'/html/body/main/form/select')\n",
    "Submit_button=driver.find_element(By.XPATH,'/html/body/main/form/button')\n",
    "\n",
    "firstname_field.click()\n",
    "firstname_field.send_keys(\"Arijit\")\n",
    "lastname_field.click()\n",
    "lastname_field.send_keys(\"Bakshi\")\n",
    "studentID_field.click()\n",
    "studentID_field.send_keys(\"19201001\")\n",
    "password_field.click()\n",
    "password_field.send_keys(\"12345678\")\n",
    "department_field.click()\n",
    "department_field.send_keys(\"CSE\")\n",
    "print(firstname_field.get_attribute('value'))\n",
    "print(lastname_field.get_attribute('value'))\n",
    "print(studentID_field.get_attribute('value'))\n",
    "print(password_field.get_attribute('value'))\n",
    "print(department_field.get_attribute('value'))\n",
    "time.sleep(3)\n",
    "\n",
    "if firstname_field.get_attribute('value')=='Arijit'and lastname_field.get_attribute('value')=='Bakshi'and studentID_field.get_attribute('value')=='19201001'and password_field.get_attribute('value')=='12345678':\n",
    "     print(\"Test 2 is passed\")\n",
    "        \n",
    "Submit_button.click()\n",
    "driver.close()\n",
    "\n",
    "\n",
    "                                    "
   ]
  },
  {
   "cell_type": "code",
   "execution_count": 5,
   "id": "e87995d7-5c11-44cb-b6b4-ad63237ab1e4",
   "metadata": {},
   "outputs": [
    {
     "name": "stdout",
     "output_type": "stream",
     "text": [
      "admin page test\n"
     ]
    }
   ],
   "source": [
    "print(\"admin page test\")\n",
    "\n"
   ]
  },
  {
   "cell_type": "code",
   "execution_count": 4,
   "id": "9901d3d1-fb9f-40d6-aa89-6b24ed64a2d6",
   "metadata": {},
   "outputs": [
    {
     "name": "stderr",
     "output_type": "stream",
     "text": [
      "C:\\Users\\PC\\AppData\\Local\\Temp/ipykernel_11848/3305788622.py:2: DeprecationWarning: executable_path has been deprecated, please pass in a Service object\n",
      "  driver = webdriver.Chrome(executable_path='chromedriver.exe', options=options)\n"
     ]
    },
    {
     "name": "stdout",
     "output_type": "stream",
     "text": [
      "admin\n",
      "admin\n",
      "Test 3 is passed\n"
     ]
    }
   ],
   "source": [
    "options = webdriver.ChromeOptions()\n",
    "driver = webdriver.Chrome(executable_path='chromedriver.exe', options=options)\n",
    "driver.set_window_size(1120, 1000)\n",
    "url =\"http://127.0.0.1:8000/\"\n",
    "driver.get(url)\n",
    "driver.title\n",
    "driver.get('http://127.0.0.1:8000/admin/login/?next=/admin/')\n",
    "from selenium.webdriver.common.by import By\n",
    "Username_field=driver.find_element(By.XPATH,'//*[@id=\"id_username\"]')\n",
    "Password_field=driver.find_element(By.XPATH,'//*[@id=\"id_password\"]')\n",
    "Login_button=driver.find_element(By.XPATH,'//*[@id=\"login-form\"]/div[3]/input')\n",
    "Username_field.click()\n",
    "Username_field.send_keys(\"admin\")\n",
    "Password_field.click()\n",
    "Password_field.send_keys(\"admin\")\n",
    "print(Username_field.get_attribute('value'))\n",
    "print(Password_field.get_attribute('value'))\n",
    "time.sleep(3)\n",
    "if Username_field.get_attribute('value')=='admin' and Password_field.get_attribute('value')=='admin':\n",
    "    print(\"Test 3 is passed\")\n",
    "Login_button.click()\n",
    "driver.close()\n",
    "\n",
    "\n"
   ]
  },
  {
   "cell_type": "code",
   "execution_count": 6,
   "id": "64644813-f6e1-4a63-b1d9-b86432583e9b",
   "metadata": {},
   "outputs": [
    {
     "name": "stdout",
     "output_type": "stream",
     "text": [
      "navbar test\n"
     ]
    }
   ],
   "source": [
    "print(\"navbar test\")"
   ]
  },
  {
   "cell_type": "code",
   "execution_count": 1,
   "id": "248f0a20-fa5e-4895-afd8-c5f1b1d70aea",
   "metadata": {},
   "outputs": [
    {
     "ename": "SyntaxError",
     "evalue": "cannot assign to comparison (Temp/ipykernel_4604/2360037710.py, line 8)",
     "output_type": "error",
     "traceback": [
      "\u001b[1;36m  File \u001b[1;32m\"C:\\Users\\PC\\AppData\\Local\\Temp/ipykernel_4604/2360037710.py\"\u001b[1;36m, line \u001b[1;32m8\u001b[0m\n\u001b[1;33m    List<WebElement> allLinks = driver.findElements(By.tagName(\"Login\"));\u001b[0m\n\u001b[1;37m    ^\u001b[0m\n\u001b[1;31mSyntaxError\u001b[0m\u001b[1;31m:\u001b[0m cannot assign to comparison\n"
     ]
    }
   ],
   "source": [
    "\n",
    "  \n",
    "driver = webdriver.Chrome(executable_path='chromedriver.exe', options=options)\n",
    "driver.set_window_size(1120, 1000)\n",
    "url =\"http://127.0.0.1:8000/\"\n",
    "driver.get(url)\n",
    "driver.title\n",
    "driver.get('http://127.0.0.1:8000/')\n",
    "from selenium.webdriver.common.by import By\n",
    "List<WebElement> allLinks = driver.findElements(By.tagName(\"Login\"));\n",
    "\n",
    "    for (WebElement w : allLinks)\n",
    "    {\n",
    "\n",
    "        w.click();\n",
    "        if (driver.findElement(By.xpath(\"//*[@id=\"menu\"]/li[1]/a\")).isDisplayed())\n",
    "        {\n",
    "            System.out.println(\"Link:\"+w.getText()+\"is working\");\n",
    "        }\n",
    "        else\n",
    "        {\n",
    "            System.out.println(\"Link:\"+w.getText()+\"is not working\");\n",
    "        }\n",
    "        driver.navigate().back();//To come back to the Home screen\n",
    "\n",
    "    }\n",
    "\n",
    "\n",
    "    \n",
    "    \n",
    "    \n",
    "    \n",
    "    \n",
    "    \n"
   ]
  },
  {
   "cell_type": "code",
   "execution_count": 9,
   "id": "b2e519bb-ee1d-47b3-b675-44cb2b05e803",
   "metadata": {},
   "outputs": [
    {
     "name": "stdout",
     "output_type": "stream",
     "text": [
      "search box test\n"
     ]
    }
   ],
   "source": [
    "print(\"search box test\")"
   ]
  },
  {
   "cell_type": "code",
   "execution_count": 30,
   "id": "e49c709b-d7b4-4991-b9e8-3e7d4ed73e32",
   "metadata": {},
   "outputs": [
    {
     "name": "stderr",
     "output_type": "stream",
     "text": [
      "C:\\Users\\PC\\AppData\\Local\\Temp/ipykernel_4604/1831838952.py:11: DeprecationWarning: executable_path has been deprecated, please pass in a Service object\n",
      "  driver = webdriver.Chrome(executable_path='chromedriver.exe', options=options)\n"
     ]
    },
    {
     "name": "stdout",
     "output_type": "stream",
     "text": [
      "test passed\n"
     ]
    }
   ],
   "source": [
    "from selenium.common.exceptions import NoSuchElementException, ElementClickInterceptedException\n",
    "from selenium import webdriver\n",
    "from selenium.webdriver.common.keys import Keys\n",
    "from selenium.webdriver.common.by import By\n",
    "from selenium.webdriver.support.ui import WebDriverWait\n",
    "from selenium.webdriver.support import expected_conditions as EC\n",
    "\n",
    "PATH=\"./chromedriver.exe\"\n",
    "import time\n",
    "options = webdriver.ChromeOptions()\n",
    "driver = webdriver.Chrome(executable_path='chromedriver.exe', options=options)\n",
    "driver.set_window_size(1120, 1000)\n",
    "url =\"http://127.0.0.1:8000/\"\n",
    "driver.get(url) \n",
    "driver.title\n",
    "driver.find_element(\"name\", \"search-query\")\n",
    "\n",
    "search_box = driver.find_element(\"name\", \"search-query\")\n",
    "search_box.send_keys('grim brothers')\n",
    "search_box.send_keys(Keys.RETURN)\n",
    "try:\n",
    "    element = WebDriverWait(driver, 10).until(# wait till 10 sec\n",
    "        EC.presence_of_element_located((By.ID, \"main\"))\n",
    "        \n",
    "    )\n",
    "except:\n",
    "    driver.quit()\n",
    "    \n",
    "print(\"test passed\")\n",
    "\n"
   ]
  },
  {
   "cell_type": "code",
   "execution_count": 31,
   "id": "b2f62370-edef-44cf-a0f4-a2e44d6e6e03",
   "metadata": {},
   "outputs": [
    {
     "name": "stdout",
     "output_type": "stream",
     "text": [
      "going to the  next page\n"
     ]
    }
   ],
   "source": [
    "print(\"going to the  next page\")"
   ]
  },
  {
   "cell_type": "code",
   "execution_count": 39,
   "id": "bf071703-4f77-4b92-84db-812b7046c0a6",
   "metadata": {},
   "outputs": [
    {
     "name": "stderr",
     "output_type": "stream",
     "text": [
      "C:\\Users\\PC\\AppData\\Local\\Temp/ipykernel_4604/13113151.py:9: DeprecationWarning: executable_path has been deprecated, please pass in a Service object\n",
      "  driver = webdriver.Chrome(executable_path='chromedriver.exe', options=options)\n"
     ]
    }
   ],
   "source": [
    "from selenium import webdriver\n",
    "from selenium.webdriver.common.keys import Keys\n",
    "from selenium.webdriver.common.by import By\n",
    "from selenium.webdriver.support.ui import WebDriverWait\n",
    "from selenium.webdriver.support import expected_conditions as EC\n",
    "PATH=\"./chromedriver.exe\"\n",
    "import time\n",
    "options = webdriver.ChromeOptions()\n",
    "driver = webdriver.Chrome(executable_path='chromedriver.exe', options=options)\n",
    "driver.set_window_size(1120, 1000)\n",
    "url =\"http://127.0.0.1:8000/\"\n",
    "driver.get(url) \n",
    "\n",
    "link=driver.find_element(\"link text\", \"Login\")\n",
    "link.click()\n",
    "try:\n",
    "    element = WebDriverWait(driver, 10).until(# wait till 10 sec\n",
    "        EC.presence_of_element_located((By.ID, \"main\"))\n",
    "        \n",
    "    )\n",
    "    element.click()\n",
    "    print(\"test passed\")\n",
    "except:\n",
    "    driver.quit()\n"
   ]
  },
  {
   "cell_type": "code",
   "execution_count": null,
   "id": "81da4ef8-fe71-4aff-bda1-73223b73b9b0",
   "metadata": {},
   "outputs": [],
   "source": []
  },
  {
   "cell_type": "code",
   "execution_count": null,
   "id": "108f36ee-5cae-499b-b7c9-74a72bb85c7e",
   "metadata": {},
   "outputs": [],
   "source": []
  }
 ],
 "metadata": {
  "kernelspec": {
   "display_name": "Python 3 (ipykernel)",
   "language": "python",
   "name": "python3"
  },
  "language_info": {
   "codemirror_mode": {
    "name": "ipython",
    "version": 3
   },
   "file_extension": ".py",
   "mimetype": "text/x-python",
   "name": "python",
   "nbconvert_exporter": "python",
   "pygments_lexer": "ipython3",
   "version": "3.9.7"
  },
  "vscode": {
   "interpreter": {
    "hash": "cf92aa13fedf815d5c8dd192b8d835913fde3e8bc926b2a0ad6cc74ef2ba3ca2"
   }
  }
 },
 "nbformat": 4,
 "nbformat_minor": 5
}
